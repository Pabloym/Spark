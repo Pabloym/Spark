{
 "cells": [
  {
   "cell_type": "markdown",
   "id": "aggregate-possession",
   "metadata": {},
   "source": [
    "# Task Advanced. Data preprocessing and crossvalidation."
   ]
  },
  {
   "cell_type": "markdown",
   "id": "hindu-hacker",
   "metadata": {},
   "source": [
    "## Module 11. Scalable Data processing: Machine learning and Streaming"
   ]
  },
  {
   "cell_type": "markdown",
   "id": "proud-priority",
   "metadata": {},
   "source": [
    "## Pablo Yañez Martin"
   ]
  },
  {
   "cell_type": "code",
   "execution_count": 1,
   "id": "metric-zealand",
   "metadata": {},
   "outputs": [],
   "source": [
    "from pyspark.ml.classification import DecisionTreeClassifier\n",
    "from pyspark.ml.feature import VectorAssembler\n",
    "from pyspark.sql import SparkSession\n",
    "from pyspark.ml.evaluation import MulticlassClassificationEvaluator\n",
    "from pyspark.ml.tuning import ParamGridBuilder, TrainValidationSplit\n",
    "import matplotlib.pyplot as plt"
   ]
  },
  {
   "cell_type": "code",
   "execution_count": 2,
   "id": "known-input",
   "metadata": {},
   "outputs": [],
   "source": [
    "spark_session = SparkSession \\\n",
    "    .builder \\\n",
    "    .appName(\"Task Advanced: Data preprocessing and crossvalidation\") \\\n",
    "    .master(\"local[*]\") \\\n",
    "    .getOrCreate()"
   ]
  },
  {
   "cell_type": "markdown",
   "id": "freelance-wellington",
   "metadata": {},
   "source": [
    "#### Step 1. Read the CSV inferring the scheme."
   ]
  },
  {
   "cell_type": "code",
   "execution_count": 3,
   "id": "three-tonight",
   "metadata": {},
   "outputs": [],
   "source": [
    "df = spark_session\\\n",
    "    .read\\\n",
    "    .options(inferSchema='True')\\\n",
    "    .csv(\"D:\\Dropbox\\Pablo\\Master\\Modulo 11. Scalable Data processing. Machine Learning and Streaming\\Practicas\\Datos\\wine.data\")\\\n",
    "    .toDF(\"label\", \"feature1\", \"feature2\", \"feature3\", \"feature4\", \"feature5\", \"feature6\", \"feature7\", \"feature8\", \"feature9\", \"feature10\", \"feature11\", \"feature12\", \"feature13\")"
   ]
  },
  {
   "cell_type": "code",
   "execution_count": 4,
   "id": "elementary-copper",
   "metadata": {},
   "outputs": [
    {
     "name": "stdout",
     "output_type": "stream",
     "text": [
      "root\n",
      " |-- label: integer (nullable = true)\n",
      " |-- feature1: double (nullable = true)\n",
      " |-- feature2: double (nullable = true)\n",
      " |-- feature3: double (nullable = true)\n",
      " |-- feature4: double (nullable = true)\n",
      " |-- feature5: integer (nullable = true)\n",
      " |-- feature6: double (nullable = true)\n",
      " |-- feature7: double (nullable = true)\n",
      " |-- feature8: double (nullable = true)\n",
      " |-- feature9: double (nullable = true)\n",
      " |-- feature10: double (nullable = true)\n",
      " |-- feature11: double (nullable = true)\n",
      " |-- feature12: double (nullable = true)\n",
      " |-- feature13: integer (nullable = true)\n",
      "\n",
      "+-----+--------+--------+--------+--------+--------+--------+--------+--------+--------+---------+---------+---------+---------+\n",
      "|label|feature1|feature2|feature3|feature4|feature5|feature6|feature7|feature8|feature9|feature10|feature11|feature12|feature13|\n",
      "+-----+--------+--------+--------+--------+--------+--------+--------+--------+--------+---------+---------+---------+---------+\n",
      "|    1|   14.23|    1.71|    2.43|    15.6|     127|     2.8|    3.06|    0.28|    2.29|     5.64|     1.04|     3.92|     1065|\n",
      "|    1|    13.2|    1.78|    2.14|    11.2|     100|    2.65|    2.76|    0.26|    1.28|     4.38|     1.05|      3.4|     1050|\n",
      "|    1|   13.16|    2.36|    2.67|    18.6|     101|     2.8|    3.24|     0.3|    2.81|     5.68|     1.03|     3.17|     1185|\n",
      "|    1|   14.37|    1.95|     2.5|    16.8|     113|    3.85|    3.49|    0.24|    2.18|      7.8|     0.86|     3.45|     1480|\n",
      "|    1|   13.24|    2.59|    2.87|    21.0|     118|     2.8|    2.69|    0.39|    1.82|     4.32|     1.04|     2.93|      735|\n",
      "|    1|    14.2|    1.76|    2.45|    15.2|     112|    3.27|    3.39|    0.34|    1.97|     6.75|     1.05|     2.85|     1450|\n",
      "|    1|   14.39|    1.87|    2.45|    14.6|      96|     2.5|    2.52|     0.3|    1.98|     5.25|     1.02|     3.58|     1290|\n",
      "|    1|   14.06|    2.15|    2.61|    17.6|     121|     2.6|    2.51|    0.31|    1.25|     5.05|     1.06|     3.58|     1295|\n",
      "|    1|   14.83|    1.64|    2.17|    14.0|      97|     2.8|    2.98|    0.29|    1.98|      5.2|     1.08|     2.85|     1045|\n",
      "|    1|   13.86|    1.35|    2.27|    16.0|      98|    2.98|    3.15|    0.22|    1.85|     7.22|     1.01|     3.55|     1045|\n",
      "|    1|    14.1|    2.16|     2.3|    18.0|     105|    2.95|    3.32|    0.22|    2.38|     5.75|     1.25|     3.17|     1510|\n",
      "|    1|   14.12|    1.48|    2.32|    16.8|      95|     2.2|    2.43|    0.26|    1.57|      5.0|     1.17|     2.82|     1280|\n",
      "|    1|   13.75|    1.73|    2.41|    16.0|      89|     2.6|    2.76|    0.29|    1.81|      5.6|     1.15|      2.9|     1320|\n",
      "|    1|   14.75|    1.73|    2.39|    11.4|      91|     3.1|    3.69|    0.43|    2.81|      5.4|     1.25|     2.73|     1150|\n",
      "|    1|   14.38|    1.87|    2.38|    12.0|     102|     3.3|    3.64|    0.29|    2.96|      7.5|      1.2|      3.0|     1547|\n",
      "|    1|   13.63|    1.81|     2.7|    17.2|     112|    2.85|    2.91|     0.3|    1.46|      7.3|     1.28|     2.88|     1310|\n",
      "|    1|    14.3|    1.92|    2.72|    20.0|     120|     2.8|    3.14|    0.33|    1.97|      6.2|     1.07|     2.65|     1280|\n",
      "|    1|   13.83|    1.57|    2.62|    20.0|     115|    2.95|     3.4|     0.4|    1.72|      6.6|     1.13|     2.57|     1130|\n",
      "|    1|   14.19|    1.59|    2.48|    16.5|     108|     3.3|    3.93|    0.32|    1.86|      8.7|     1.23|     2.82|     1680|\n",
      "|    1|   13.64|     3.1|    2.56|    15.2|     116|     2.7|    3.03|    0.17|    1.66|      5.1|     0.96|     3.36|      845|\n",
      "+-----+--------+--------+--------+--------+--------+--------+--------+--------+--------+---------+---------+---------+---------+\n",
      "only showing top 20 rows\n",
      "\n"
     ]
    }
   ],
   "source": [
    "df.printSchema()\n",
    "df.show()"
   ]
  },
  {
   "cell_type": "markdown",
   "id": "automatic-profile",
   "metadata": {},
   "source": [
    "#### Step 2. Transforming the read dataframe into another one with the format required by SparkML."
   ]
  },
  {
   "cell_type": "code",
   "execution_count": 5,
   "id": "prescribed-reducing",
   "metadata": {},
   "outputs": [
    {
     "name": "stdout",
     "output_type": "stream",
     "text": [
      "+-----+--------+--------+--------+--------+--------+--------+--------+--------+--------+---------+---------+---------+---------+--------------------+\n",
      "|label|feature1|feature2|feature3|feature4|feature5|feature6|feature7|feature8|feature9|feature10|feature11|feature12|feature13|            features|\n",
      "+-----+--------+--------+--------+--------+--------+--------+--------+--------+--------+---------+---------+---------+---------+--------------------+\n",
      "|    1|   14.23|    1.71|    2.43|    15.6|     127|     2.8|    3.06|    0.28|    2.29|     5.64|     1.04|     3.92|     1065|[14.23,1.71,2.43,...|\n",
      "|    1|    13.2|    1.78|    2.14|    11.2|     100|    2.65|    2.76|    0.26|    1.28|     4.38|     1.05|      3.4|     1050|[13.2,1.78,2.14,1...|\n",
      "|    1|   13.16|    2.36|    2.67|    18.6|     101|     2.8|    3.24|     0.3|    2.81|     5.68|     1.03|     3.17|     1185|[13.16,2.36,2.67,...|\n",
      "|    1|   14.37|    1.95|     2.5|    16.8|     113|    3.85|    3.49|    0.24|    2.18|      7.8|     0.86|     3.45|     1480|[14.37,1.95,2.5,1...|\n",
      "|    1|   13.24|    2.59|    2.87|    21.0|     118|     2.8|    2.69|    0.39|    1.82|     4.32|     1.04|     2.93|      735|[13.24,2.59,2.87,...|\n",
      "|    1|    14.2|    1.76|    2.45|    15.2|     112|    3.27|    3.39|    0.34|    1.97|     6.75|     1.05|     2.85|     1450|[14.2,1.76,2.45,1...|\n",
      "|    1|   14.39|    1.87|    2.45|    14.6|      96|     2.5|    2.52|     0.3|    1.98|     5.25|     1.02|     3.58|     1290|[14.39,1.87,2.45,...|\n",
      "|    1|   14.06|    2.15|    2.61|    17.6|     121|     2.6|    2.51|    0.31|    1.25|     5.05|     1.06|     3.58|     1295|[14.06,2.15,2.61,...|\n",
      "|    1|   14.83|    1.64|    2.17|    14.0|      97|     2.8|    2.98|    0.29|    1.98|      5.2|     1.08|     2.85|     1045|[14.83,1.64,2.17,...|\n",
      "|    1|   13.86|    1.35|    2.27|    16.0|      98|    2.98|    3.15|    0.22|    1.85|     7.22|     1.01|     3.55|     1045|[13.86,1.35,2.27,...|\n",
      "|    1|    14.1|    2.16|     2.3|    18.0|     105|    2.95|    3.32|    0.22|    2.38|     5.75|     1.25|     3.17|     1510|[14.1,2.16,2.3,18...|\n",
      "|    1|   14.12|    1.48|    2.32|    16.8|      95|     2.2|    2.43|    0.26|    1.57|      5.0|     1.17|     2.82|     1280|[14.12,1.48,2.32,...|\n",
      "|    1|   13.75|    1.73|    2.41|    16.0|      89|     2.6|    2.76|    0.29|    1.81|      5.6|     1.15|      2.9|     1320|[13.75,1.73,2.41,...|\n",
      "|    1|   14.75|    1.73|    2.39|    11.4|      91|     3.1|    3.69|    0.43|    2.81|      5.4|     1.25|     2.73|     1150|[14.75,1.73,2.39,...|\n",
      "|    1|   14.38|    1.87|    2.38|    12.0|     102|     3.3|    3.64|    0.29|    2.96|      7.5|      1.2|      3.0|     1547|[14.38,1.87,2.38,...|\n",
      "|    1|   13.63|    1.81|     2.7|    17.2|     112|    2.85|    2.91|     0.3|    1.46|      7.3|     1.28|     2.88|     1310|[13.63,1.81,2.7,1...|\n",
      "|    1|    14.3|    1.92|    2.72|    20.0|     120|     2.8|    3.14|    0.33|    1.97|      6.2|     1.07|     2.65|     1280|[14.3,1.92,2.72,2...|\n",
      "|    1|   13.83|    1.57|    2.62|    20.0|     115|    2.95|     3.4|     0.4|    1.72|      6.6|     1.13|     2.57|     1130|[13.83,1.57,2.62,...|\n",
      "|    1|   14.19|    1.59|    2.48|    16.5|     108|     3.3|    3.93|    0.32|    1.86|      8.7|     1.23|     2.82|     1680|[14.19,1.59,2.48,...|\n",
      "|    1|   13.64|     3.1|    2.56|    15.2|     116|     2.7|    3.03|    0.17|    1.66|      5.1|     0.96|     3.36|      845|[13.64,3.1,2.56,1...|\n",
      "+-----+--------+--------+--------+--------+--------+--------+--------+--------+--------+---------+---------+---------+---------+--------------------+\n",
      "only showing top 20 rows\n",
      "\n"
     ]
    }
   ],
   "source": [
    "vecAssembler = VectorAssembler(inputCols=[\"feature1\", \"feature2\", \"feature3\", \"feature4\", \"feature5\", \"feature6\", \"feature7\", \"feature8\", \"feature9\", \"feature10\", \"feature11\", \"feature12\", \"feature13\"], outputCol=\"features\")\n",
    "new_df = vecAssembler.transform(df)\n",
    "new_df.show()"
   ]
  },
  {
   "cell_type": "markdown",
   "id": "massive-anatomy",
   "metadata": {},
   "source": [
    "#### Step 3. Select a classifier and train it using crossvalidation."
   ]
  },
  {
   "cell_type": "code",
   "execution_count": 6,
   "id": "according-alert",
   "metadata": {},
   "outputs": [],
   "source": [
    "(trainingData, testData) = new_df.randomSplit([0.8, 0.2])"
   ]
  },
  {
   "cell_type": "code",
   "execution_count": 7,
   "id": "dressed-hungarian",
   "metadata": {},
   "outputs": [],
   "source": [
    "decision_tree = DecisionTreeClassifier(labelCol=\"label\", featuresCol=\"features\")\n",
    "model = decision_tree.fit(trainingData)"
   ]
  },
  {
   "cell_type": "code",
   "execution_count": 8,
   "id": "usual-attraction",
   "metadata": {},
   "outputs": [],
   "source": [
    "paramGrid = (ParamGridBuilder()\n",
    "             .addGrid(decision_tree.maxDepth, [2, 5, 10, 20, 30])\n",
    "             .addGrid(decision_tree.maxBins, [10, 20, 40, 80, 100])\n",
    "             .build())"
   ]
  },
  {
   "cell_type": "code",
   "execution_count": 9,
   "id": "flush-prescription",
   "metadata": {},
   "outputs": [],
   "source": [
    "evaluator = MulticlassClassificationEvaluator(labelCol=\"label\", predictionCol=\"prediction\", metricName=\"accuracy\")"
   ]
  },
  {
   "cell_type": "code",
   "execution_count": 10,
   "id": "continuous-active",
   "metadata": {},
   "outputs": [],
   "source": [
    "train_validation_split = TrainValidationSplit(estimator=decision_tree,\n",
    "                           estimatorParamMaps=paramGrid,\n",
    "                           evaluator=evaluator,\n",
    "                           trainRatio=0.8)"
   ]
  },
  {
   "cell_type": "code",
   "execution_count": 11,
   "id": "hazardous-zambia",
   "metadata": {},
   "outputs": [],
   "source": [
    "model = train_validation_split.fit(trainingData)"
   ]
  },
  {
   "cell_type": "markdown",
   "id": "swiss-likelihood",
   "metadata": {},
   "source": [
    "#### Step 4. Analyze the quality of the classifier."
   ]
  },
  {
   "cell_type": "code",
   "execution_count": 12,
   "id": "multiple-locking",
   "metadata": {},
   "outputs": [
    {
     "name": "stdout",
     "output_type": "stream",
     "text": [
      "+----------+-----+--------------------+\n",
      "|prediction|label|            features|\n",
      "+----------+-----+--------------------+\n",
      "|       1.0|    1|[12.85,1.6,2.52,1...|\n",
      "|       1.0|    1|[13.72,1.43,2.5,1...|\n",
      "|       1.0|    1|[13.73,1.5,2.7,22...|\n",
      "|       1.0|    1|[13.83,1.57,2.62,...|\n",
      "|       1.0|    1|[13.9,1.68,2.12,1...|\n",
      "+----------+-----+--------------------+\n",
      "only showing top 5 rows\n",
      "\n"
     ]
    }
   ],
   "source": [
    "predictions = model.transform(testData)\n",
    "predictions\\\n",
    "    .select(\"prediction\", \"label\", \"features\")\\\n",
    "    .show(5)"
   ]
  },
  {
   "cell_type": "code",
   "execution_count": 13,
   "id": "enhanced-leeds",
   "metadata": {},
   "outputs": [
    {
     "name": "stdout",
     "output_type": "stream",
     "text": [
      "Test Error = 0.0666667\n"
     ]
    }
   ],
   "source": [
    "evaluator = MulticlassClassificationEvaluator(labelCol=\"label\", predictionCol=\"prediction\", metricName=\"accuracy\")\n",
    "accuracy = evaluator.evaluate(predictions)\n",
    "print(\"Test Error = %g\" % (1.0 - accuracy))"
   ]
  },
  {
   "cell_type": "markdown",
   "id": "bored-morning",
   "metadata": {},
   "source": [
    "Running this notebook, several times, I have obtained the following list of test error:"
   ]
  },
  {
   "cell_type": "code",
   "execution_count": 14,
   "id": "dedicated-velvet",
   "metadata": {},
   "outputs": [
    {
     "name": "stdout",
     "output_type": "stream",
     "text": [
      "25\n"
     ]
    }
   ],
   "source": [
    "test_error_decision_tree = [0.157895,0.15625,0.222222,0.125,0.139535, 0.108108, 0.102564,0,0.0384615, 0.114286, 0.0740741, 0,0.0909091,0.121212, 0.117647, 0.195652, 0.0833333,0.025641,0.137931,0.111111, 0.125, 0.1875, 0.027027, 0.0285714, 0.0294118]\n",
    "print(len(test_error_decision_tree))"
   ]
  },
  {
   "cell_type": "code",
   "execution_count": 15,
   "id": "beneficial-quarter",
   "metadata": {},
   "outputs": [
    {
     "data": {
      "image/png": "[encoded data removed]",
      "text/plain": [
       "<Figure size 432x288 with 1 Axes>"
      ]
     },
     "metadata": {
      "needs_background": "light"
     },
     "output_type": "display_data"
    }
   ],
   "source": [
    "plt.boxplot(test_error_decision_tree)\n",
    "plt.title(\"Box Plot of the Decision Tree Classifier Error\")\n",
    "plt.show()"
   ]
  },
  {
   "cell_type": "markdown",
   "id": "educational-democracy",
   "metadata": {},
   "source": [
    "In the box plot, we can see that the majority of values of test error are between 0.04 and 0.14. So, we can say that the quality of our classifier is good, although it could be better.\n",
    "We can observe that some times, the test error is 0 and others greater than 0.2, which is a bad "
   ]
  }
 ],
 "metadata": {
  "kernelspec": {
   "display_name": "Python 3",
   "language": "python",
   "name": "python3"
  },
  "language_info": {
   "codemirror_mode": {
    "name": "ipython",
    "version": 3
   },
   "file_extension": ".py",
   "mimetype": "text/x-python",
   "name": "python",
   "nbconvert_exporter": "python",
   "pygments_lexer": "ipython3",
   "version": "3.9.2"
  }
 },
 "nbformat": 4,
 "nbformat_minor": 5
}
