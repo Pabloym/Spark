{
 "cells": [
  {
   "cell_type": "markdown",
   "id": "sudden-plumbing",
   "metadata": {},
   "source": [
    "# Task Advanced. Clustering of crimen locations"
   ]
  },
  {
   "cell_type": "markdown",
   "id": "stainless-rates",
   "metadata": {},
   "source": [
    "## Module 11. Scalable Data processing: Machine learning and Streaming"
   ]
  },
  {
   "cell_type": "markdown",
   "id": "demographic-garlic",
   "metadata": {},
   "source": [
    "## Pablo Yañez Martin"
   ]
  },
  {
   "cell_type": "code",
   "execution_count": 1,
   "id": "editorial-niger",
   "metadata": {},
   "outputs": [],
   "source": [
    "from pyspark.sql import SparkSession\n",
    "from pyspark import SparkConf, SparkContext\n",
    "from pyspark.ml.clustering import KMeans, KMeansModel\n",
    "import matplotlib.pyplot as plt\n",
    "from pyspark.ml.feature import VectorAssembler\n",
    "import folium\n",
    "from pyspark.ml.evaluation import ClusteringEvaluator\n",
    "import numpy as np"
   ]
  },
  {
   "cell_type": "code",
   "execution_count": 2,
   "id": "electronic-disclaimer",
   "metadata": {},
   "outputs": [],
   "source": [
    "spark_session = SparkSession \\\n",
    "    .builder \\\n",
    "    .appName(\"Task Advanced: Clustering of crimen locations\") \\\n",
    "    .master(\"local[*]\") \\\n",
    "    .getOrCreate()"
   ]
  },
  {
   "cell_type": "code",
   "execution_count": 3,
   "id": "reduced-utility",
   "metadata": {},
   "outputs": [],
   "source": [
    "data = spark_session \\\n",
    "    .read \\\n",
    "    .format(\"csv\") \\\n",
    "    .option(\"header\", \"true\")\\\n",
    "    .load(\"D:\\Dropbox\\Pablo\\Master\\Modulo 11. Scalable Data processing. Machine Learning and Streaming\\Tareas\\Tarea Advaced 2\\Crimes_-_2001_to_Present.csv\")"
   ]
  },
  {
   "cell_type": "markdown",
   "id": "worse-prototype",
   "metadata": {},
   "source": [
    "Checking if the data has been loaded correctly."
   ]
  },
  {
   "cell_type": "code",
   "execution_count": 4,
   "id": "capable-century",
   "metadata": {},
   "outputs": [
    {
     "name": "stdout",
     "output_type": "stream",
     "text": [
      "root\n",
      " |-- ID: string (nullable = true)\n",
      " |-- Case Number: string (nullable = true)\n",
      " |-- Date: string (nullable = true)\n",
      " |-- Block: string (nullable = true)\n",
      " |-- IUCR: string (nullable = true)\n",
      " |-- Primary Type: string (nullable = true)\n",
      " |-- Description: string (nullable = true)\n",
      " |-- Location Description: string (nullable = true)\n",
      " |-- Arrest: string (nullable = true)\n",
      " |-- Domestic: string (nullable = true)\n",
      " |-- Beat: string (nullable = true)\n",
      " |-- District: string (nullable = true)\n",
      " |-- Ward: string (nullable = true)\n",
      " |-- Community Area: string (nullable = true)\n",
      " |-- FBI Code: string (nullable = true)\n",
      " |-- X Coordinate: string (nullable = true)\n",
      " |-- Y Coordinate: string (nullable = true)\n",
      " |-- Year: string (nullable = true)\n",
      " |-- Updated On: string (nullable = true)\n",
      " |-- Latitude: string (nullable = true)\n",
      " |-- Longitude: string (nullable = true)\n",
      " |-- Location: string (nullable = true)\n",
      "\n",
      "+--------+-----------+--------------------+--------------------+----+------------------+--------------------+--------------------+------+--------+----+--------+----+--------------+--------+------------+------------+----+--------------------+------------+-------------+--------------------+\n",
      "|      ID|Case Number|                Date|               Block|IUCR|      Primary Type|         Description|Location Description|Arrest|Domestic|Beat|District|Ward|Community Area|FBI Code|X Coordinate|Y Coordinate|Year|          Updated On|    Latitude|    Longitude|            Location|\n",
      "+--------+-----------+--------------------+--------------------+----+------------------+--------------------+--------------------+------+--------+----+--------+----+--------------+--------+------------+------------+----+--------------------+------------+-------------+--------------------+\n",
      "|10224738|   HY411648|09/05/2015 01:30:...|     043XX S WOOD ST|0486|           BATTERY|DOMESTIC BATTERY ...|           RESIDENCE| false|    true|0924|     009|  12|            61|     08B|     1165074|     1875917|2015|02/10/2018 03:50:...|41.815117282|-87.669999562|(41.815117282, -8...|\n",
      "|10224739|   HY411615|09/04/2015 11:30:...| 008XX N CENTRAL AVE|0870|             THEFT|      POCKET-PICKING|             CTA BUS| false|   false|1511|     015|  29|            25|      06|     1138875|     1904869|2015|02/10/2018 03:50:...|41.895080471|-87.765400451|(41.895080471, -8...|\n",
      "|11646166|   JC213529|09/01/2018 12:01:...|082XX S INGLESIDE...|0810|             THEFT|           OVER $500|           RESIDENCE| false|    true|0631|     006|   8|            44|      06|        null|        null|2018|04/06/2019 04:04:...|        null|         null|                null|\n",
      "|10224740|   HY411595|09/05/2015 12:45:...|   035XX W BARRY AVE|2023|         NARCOTICS|POSS: HEROIN(BRN/...|            SIDEWALK|  true|   false|1412|     014|  35|            21|      18|     1152037|     1920384|2015|02/10/2018 03:50:...|41.937405765|-87.716649687|(41.937405765, -8...|\n",
      "|10224741|   HY411610|09/05/2015 01:00:...| 0000X N LARAMIE AVE|0560|           ASSAULT|              SIMPLE|           APARTMENT| false|    true|1522|     015|  28|            25|     08A|     1141706|     1900086|2015|02/10/2018 03:50:...|41.881903443|-87.755121152|(41.881903443, -8...|\n",
      "|10224742|   HY411435|09/05/2015 10:55:...| 082XX S LOOMIS BLVD|0610|          BURGLARY|      FORCIBLE ENTRY|           RESIDENCE| false|   false|0614|     006|  21|            71|      05|     1168430|     1850165|2015|02/10/2018 03:50:...|41.744378879|-87.658430635|(41.744378879, -8...|\n",
      "|10224743|   HY411629|09/04/2015 06:00:...|021XX W CHURCHILL ST|0620|          BURGLARY|      UNLAWFUL ENTRY|    RESIDENCE-GARAGE| false|   false|1434|     014|  32|            24|      05|     1161628|     1912157|2015|02/10/2018 03:50:...|41.914635603|-87.681630909|(41.914635603, -8...|\n",
      "|10224744|   HY411605|09/05/2015 01:00:...|   025XX W CERMAK RD|0860|             THEFT|        RETAIL THEFT|  GROCERY FOOD STORE|  true|   false|1034|     010|  25|            31|      06|     1159734|     1889313|2015|09/17/2015 11:37:...|41.851988885|-87.689219118|(41.851988885, -8...|\n",
      "|10224745|   HY411654|09/05/2015 11:30:...|031XX W WASHINGTO...|0320|           ROBBERY|STRONGARM - NO WE...|              STREET| false|    true|1222|     012|  27|            27|      03|     1155536|     1900515|2015|02/10/2018 03:50:...| 41.88281374|-87.704325717|(41.88281374, -87...|\n",
      "|11645836|   JC212333|05/01/2016 12:25:...| 055XX S ROCKWELL ST|1153|DECEPTIVE PRACTICE|FINANCIAL IDENTIT...|                null| false|   false|0824|     008|  15|            63|      11|        null|        null|2016|04/06/2019 04:04:...|        null|         null|                null|\n",
      "|10224746|   HY411662|09/05/2015 02:00:...|  071XX S PULASKI RD|0820|             THEFT|      $500 AND UNDER|PARKING LOT/GARAG...| false|   false|0833|     008|  13|            65|      06|     1150938|     1857056|2015|02/10/2018 03:50:...|41.763647552|-87.722344693|(41.763647552, -8...|\n",
      "|10224749|   HY411626|09/05/2015 11:00:...|052XX N MILWAUKEE...|0460|           BATTERY|              SIMPLE|  SMALL RETAIL STORE| false|   false|1623|     016|  45|            11|     08B|     1137969|     1934340|2015|02/10/2018 03:50:...|41.975968415|-87.768014257|(41.975968415, -8...|\n",
      "|10224750|   HY411632|09/05/2015 03:00:...|    0000X W 103RD ST|2820|     OTHER OFFENSE|    TELEPHONE THREAT|           APARTMENT| false|    true|0512|     005|  34|            49|      26|     1177871|     1836676|2015|02/10/2018 03:50:...|41.707154919|-87.624244993|(41.707154919, -8...|\n",
      "|10224751|   HY411566|09/05/2015 12:50:...|     013XX E 47TH ST|0486|           BATTERY|DOMESTIC BATTERY ...|              STREET| false|    true|0222|     002|   4|            39|     08B|     1185907|     1874105|2015|02/10/2018 03:50:...|41.809678314|-87.593638934|(41.809678314, -8...|\n",
      "|10224752|   HY411601|09/03/2015 01:00:...| 020XX W SCHILLER ST|0810|             THEFT|           OVER $500|              STREET| false|   false|1424|     014|   1|            24|      06|     1162574|     1909428|2015|02/10/2018 03:50:...|41.907127255|-87.678232016|(41.907127255, -8...|\n",
      "|10224753|   HY411489|09/05/2015 11:45:...|  080XX S JUSTINE ST|0497|           BATTERY|AGGRAVATED DOMEST...|           APARTMENT| false|   false|0612|     006|  21|            71|     04B|     1167400|     1851512|2015|02/10/2018 03:50:...|41.748097343|-87.662166183|(41.748097343, -8...|\n",
      "|10224754|   HY411656|09/05/2015 01:30:...|007XX N LEAMINGTO...|1320|   CRIMINAL DAMAGE|          TO VEHICLE|              STREET| false|   false|1531|     015|  28|            25|      14|     1141889|     1904448|2015|02/10/2018 03:50:...|41.893869916|-87.754341096|(41.893869916, -8...|\n",
      "|10224756|   HY410094|07/08/2015 12:00:...|103XX S TORRENCE AVE|0620|          BURGLARY|      UNLAWFUL ENTRY|               OTHER| false|   false|0434|     004|  10|            51|      05|     1195508|     1836950|2015|02/10/2018 03:50:...|41.707490122|-87.559650325|(41.707490122, -8...|\n",
      "|10224757|   HY411388|09/05/2015 09:55:...|  088XX S PAULINA ST|0610|          BURGLARY|      FORCIBLE ENTRY|           RESIDENCE|  true|   false|2221|     022|  21|            71|      05|     1166554|     1846067|2015|02/10/2018 03:50:...|41.733173536|-87.665421067|(41.733173536, -8...|\n",
      "|10224758|   HY411568|09/05/2015 12:35:...|    059XX W GRACE ST|0486|           BATTERY|DOMESTIC BATTERY ...|              STREET| false|    true|1633|     016|  38|            15|     08B|     1136014|     1924656|2015|02/10/2018 03:50:...|41.949429769|-87.775435529|(41.949429769, -8...|\n",
      "+--------+-----------+--------------------+--------------------+----+------------------+--------------------+--------------------+------+--------+----+--------+----+--------------+--------+------------+------------+----+--------------------+------------+-------------+--------------------+\n",
      "only showing top 20 rows\n",
      "\n"
     ]
    }
   ],
   "source": [
    "data.printSchema()\n",
    "data.show()"
   ]
  },
  {
   "cell_type": "markdown",
   "id": "alert-queue",
   "metadata": {},
   "source": [
    "Now, we will search the primary type which has more incidents."
   ]
  },
  {
   "cell_type": "code",
   "execution_count": 5,
   "id": "alleged-scanner",
   "metadata": {},
   "outputs": [
    {
     "name": "stdout",
     "output_type": "stream",
     "text": [
      "+--------+-----------+--------------------+---------------+----+------------+--------------------+--------------------+------+--------+----+--------+----+--------------+--------+------------+------------+----+--------------------+------------+-------------+--------------------+\n",
      "|      ID|Case Number|                Date|          Block|IUCR|Primary Type|         Description|Location Description|Arrest|Domestic|Beat|District|Ward|Community Area|FBI Code|X Coordinate|Y Coordinate|Year|          Updated On|    Latitude|    Longitude|            Location|\n",
      "+--------+-----------+--------------------+---------------+----+------------+--------------------+--------------------+------+--------+----+--------+----+--------------+--------+------------+------------+----+--------------------+------------+-------------+--------------------+\n",
      "|10224738|   HY411648|09/05/2015 01:30:...|043XX S WOOD ST|0486|     BATTERY|DOMESTIC BATTERY ...|           RESIDENCE| false|    true|0924|     009|  12|            61|     08B|     1165074|     1875917|2015|02/10/2018 03:50:...|41.815117282|-87.669999562|(41.815117282, -8...|\n",
      "+--------+-----------+--------------------+---------------+----+------------+--------------------+--------------------+------+--------+----+--------+----+--------------+--------+------------+------------+----+--------------------+------------+-------------+--------------------+\n",
      "only showing top 1 row\n",
      "\n"
     ]
    }
   ],
   "source": [
    "data\\\n",
    "    .groupBy(\"Primary Type\")\\\n",
    "    .count()\\\n",
    "    .orderBy(\"count\",ascending=False)\n",
    "\n",
    "data\\\n",
    "    .show(1)"
   ]
  },
  {
   "cell_type": "markdown",
   "id": "seasonal-friend",
   "metadata": {},
   "source": [
    "As we can observe, the result is THEFT."
   ]
  },
  {
   "cell_type": "markdown",
   "id": "cellular-reform",
   "metadata": {},
   "source": [
    "In the following cell we are doing a filter of the data, because we only want the crimes whose primary type is theft. And, we will remove those locations that are nulls."
   ]
  },
  {
   "cell_type": "code",
   "execution_count": 6,
   "id": "falling-character",
   "metadata": {},
   "outputs": [
    {
     "name": "stdout",
     "output_type": "stream",
     "text": [
      "+--------+-----------+--------------------+--------------------+----+------------+--------------+--------------------+------+--------+----+--------+----+--------------+--------+------------+------------+----+--------------------+------------+-------------+--------------------+\n",
      "|      ID|Case Number|                Date|               Block|IUCR|Primary Type|   Description|Location Description|Arrest|Domestic|Beat|District|Ward|Community Area|FBI Code|X Coordinate|Y Coordinate|Year|          Updated On|    Latitude|    Longitude|            Location|\n",
      "+--------+-----------+--------------------+--------------------+----+------------+--------------+--------------------+------+--------+----+--------+----+--------------+--------+------------+------------+----+--------------------+------------+-------------+--------------------+\n",
      "|10224739|   HY411615|09/04/2015 11:30:...| 008XX N CENTRAL AVE|0870|       THEFT|POCKET-PICKING|             CTA BUS| false|   false|1511|     015|  29|            25|      06|     1138875|     1904869|2015|02/10/2018 03:50:...|41.895080471|-87.765400451|(41.895080471, -8...|\n",
      "|10224744|   HY411605|09/05/2015 01:00:...|   025XX W CERMAK RD|0860|       THEFT|  RETAIL THEFT|  GROCERY FOOD STORE|  true|   false|1034|     010|  25|            31|      06|     1159734|     1889313|2015|09/17/2015 11:37:...|41.851988885|-87.689219118|(41.851988885, -8...|\n",
      "|10224746|   HY411662|09/05/2015 02:00:...|  071XX S PULASKI RD|0820|       THEFT|$500 AND UNDER|PARKING LOT/GARAG...| false|   false|0833|     008|  13|            65|      06|     1150938|     1857056|2015|02/10/2018 03:50:...|41.763647552|-87.722344693|(41.763647552, -8...|\n",
      "|10224752|   HY411601|09/03/2015 01:00:...| 020XX W SCHILLER ST|0810|       THEFT|     OVER $500|              STREET| false|   false|1424|     014|   1|            24|      06|     1162574|     1909428|2015|02/10/2018 03:50:...|41.907127255|-87.678232016|(41.907127255, -8...|\n",
      "|10224768|   HY410651|09/03/2015 08:30:...|078XX S ESCANABA AVE|0810|       THEFT|     OVER $500|VEHICLE NON-COMME...| false|   false|0421|     004|   7|            43|      06|     1196887|     1853400|2015|02/10/2018 03:50:...|41.752596188|-87.554055126|(41.752596188, -8...|\n",
      "|10224769|   HY411672|09/05/2015 02:30:...|    005XX S STATE ST|0890|       THEFT| FROM BUILDING|          RESTAURANT| false|   false|0123|     001|   2|            32|      06|     1176446|     1897964|2015|02/10/2018 03:50:...|41.875367424|-87.627620993|(41.875367424, -8...|\n",
      "|10224772|   HY411681|09/04/2015 11:00:...| 011XX N ASHLAND AVE|0810|       THEFT|     OVER $500|              STREET| false|   false|1213|     012|   1|            24|      06|     1165522|     1907528|2015|02/10/2018 03:50:...|41.901851233|-87.667456951|(41.901851233, -8...|\n",
      "|10224776|   HY411687|09/05/2015 02:45:...|  071XX S PULASKI RD|0810|       THEFT|     OVER $500|PARKING LOT/GARAG...| false|   false|0833|     008|  13|            65|      06|     1150938|     1857056|2015|02/10/2018 03:50:...|41.763647552|-87.722344693|(41.763647552, -8...|\n",
      "|10224784|   HY411422|09/04/2015 07:30:...|004XX W MARQUETTE RD|0810|       THEFT|     OVER $500|               OTHER| false|   false|0722|     007|   6|            68|      06|     1174441|     1860502|2015|02/10/2018 03:50:...|41.772613371|-87.636098706|(41.772613371, -8...|\n",
      "|10224803|   HY411745|09/04/2015 11:17:...| 012XX N LA SALLE DR|0890|       THEFT| FROM BUILDING|          RESTAURANT| false|   false|1821|     018|  42|             8|      06|     1174911|     1908547|2015|02/10/2018 03:50:...| 41.90444226| -87.63293969|(41.90444226, -87...|\n",
      "|10224805|   HY411740|09/05/2015 03:45:...|    004XX S STATE ST|0890|       THEFT| FROM BUILDING|             LIBRARY| false|   false|0113|     001|   2|            32|      06|     1176436|     1898416|2015|02/10/2018 03:50:...|41.876607964|-87.627644063|(41.876607964, -8...|\n",
      "|10224807|   HY411718|09/05/2015 03:30:...| 025XX W HARRISON ST|0820|       THEFT|$500 AND UNDER|VEHICLE NON-COMME...| false|   false|1135|     011|   2|            28|      06|     1159746|     1897284|2015|02/10/2018 03:50:...|41.873861861| -87.68895549|(41.873861861, -8...|\n",
      "|10224812|   HY411619|09/05/2015 12:30:...| 084XX S SAGINAW AVE|0820|       THEFT|$500 AND UNDER|           RESIDENCE| false|   false|0423|     004|   7|            46|      06|     1195296|     1849589|2015|02/10/2018 03:50:...|41.742177899|-87.560010869|(41.742177899, -8...|\n",
      "|10224813|   HY411765|08/30/2015 04:00:...|014XX S MICHIGAN AVE|0820|       THEFT|$500 AND UNDER|    RESIDENCE-GARAGE| false|   false|0131|     001|   2|            33|      06|     1177452|     1893551|2015|02/10/2018 03:50:...|41.863235129|-87.624061274|(41.863235129, -8...|\n",
      "|10224816|   HY411658|09/05/2015 11:00:...|034XX S DR MARTIN...|0890|       THEFT| FROM BUILDING|       ATHLETIC CLUB| false|   false|0211|     002|   4|            35|      06|     1179476|     1882211|2015|02/10/2018 03:50:...|41.832071291|-87.616978684|(41.832071291, -8...|\n",
      "|10224819|   HY411778|09/05/2015 03:02:...|     020XX E 79TH ST|0850|       THEFT| ATTEMPT THEFT|          DRUG STORE| false|   false|0414|     004|   8|            46|      06|     1191073|     1852990|2015|02/10/2018 03:50:...|41.751613643|-87.575373855|(41.751613643, -8...|\n",
      "|10224821|   HY411725|09/05/2015 03:00:...| 115XX S INDIANA AVE|0810|       THEFT|     OVER $500|PARKING LOT/GARAG...| false|   false|0532|     005|   9|            53|      06|     1179641|     1828625|2015|02/10/2018 03:50:...|41.685021672|-87.618008151|(41.685021672, -8...|\n",
      "|10224823|   HY411707|09/05/2015 12:00:...|  014XX N HALSTED ST|0820|       THEFT|$500 AND UNDER|              STREET|  true|   false|1822|     018|  27|             8|      06|     1170754|     1909471|2015|02/10/2018 03:50:...| 41.90706989|-87.648182264|(41.90706989, -87...|\n",
      "|10224825|   HY411703|09/05/2015 12:00:...|  106XX S SAWYER AVE|0820|       THEFT|$500 AND UNDER|              STREET| false|   false|2211|     022|  19|            74|      06|     1156566|     1833923|2015|02/10/2018 03:50:...|41.700055116|-87.702338239|(41.700055116, -8...|\n",
      "|10224832|   HY411712|09/04/2015 05:00:...|     013XX W 50TH ST|0820|       THEFT|$500 AND UNDER|           RESIDENCE| false|    true|0933|     009|  16|            61|      06|     1168281|     1871609|2015|02/10/2018 03:50:...|41.803227125|-87.658359911|(41.803227125, -8...|\n",
      "+--------+-----------+--------------------+--------------------+----+------------+--------------+--------------------+------+--------+----+--------+----+--------------+--------+------------+------------+----+--------------------+------------+-------------+--------------------+\n",
      "only showing top 20 rows\n",
      "\n"
     ]
    }
   ],
   "source": [
    "thefts = data\\\n",
    "    .filter(data[\"Primary Type\"]==\"THEFT\")\\\n",
    "    .filter(data[\"Location\"].isNotNull())\n",
    "\n",
    "thefts.show()"
   ]
  },
  {
   "cell_type": "markdown",
   "id": "arabic-airline",
   "metadata": {},
   "source": [
    "As we are only interested in the features, latitude and longitude, we will create a new dataframe with these features."
   ]
  },
  {
   "cell_type": "code",
   "execution_count": 7,
   "id": "residential-aquarium",
   "metadata": {},
   "outputs": [
    {
     "name": "stdout",
     "output_type": "stream",
     "text": [
      "+------------+-------------+\n",
      "|    Latitude|    Longitude|\n",
      "+------------+-------------+\n",
      "|41.895080471|-87.765400451|\n",
      "|41.851988885|-87.689219118|\n",
      "|41.763647552|-87.722344693|\n",
      "|41.907127255|-87.678232016|\n",
      "|41.752596188|-87.554055126|\n",
      "|41.875367424|-87.627620993|\n",
      "|41.901851233|-87.667456951|\n",
      "|41.763647552|-87.722344693|\n",
      "|41.772613371|-87.636098706|\n",
      "| 41.90444226| -87.63293969|\n",
      "|41.876607964|-87.627644063|\n",
      "|41.873861861| -87.68895549|\n",
      "|41.742177899|-87.560010869|\n",
      "|41.863235129|-87.624061274|\n",
      "|41.832071291|-87.616978684|\n",
      "|41.751613643|-87.575373855|\n",
      "|41.685021672|-87.618008151|\n",
      "| 41.90706989|-87.648182264|\n",
      "|41.700055116|-87.702338239|\n",
      "|41.803227125|-87.658359911|\n",
      "+------------+-------------+\n",
      "only showing top 20 rows\n",
      "\n"
     ]
    }
   ],
   "source": [
    "coordinates = thefts\\\n",
    "    .select(\"Latitude\", \"Longitude\")\n",
    "\n",
    "coordinates.show()"
   ]
  },
  {
   "cell_type": "markdown",
   "id": "matched-stations",
   "metadata": {},
   "source": [
    "In order to use this dataframe, we have to change the type of the features from string to float. I have followed the instructions from this URL: https://stackoverflow.com/questions/47585723/kmeans-clustering-in-pyspark/47593712"
   ]
  },
  {
   "cell_type": "code",
   "execution_count": 8,
   "id": "exceptional-extraction",
   "metadata": {},
   "outputs": [],
   "source": [
    "lista_de_coordenadas = []\n",
    "col = coordinates.collect()\n",
    "for i in range(len(col)):\n",
    "    lista_de_coordenadas.append([i,float(col[i][0]),float(col[i][1])])"
   ]
  },
  {
   "cell_type": "code",
   "execution_count": 9,
   "id": "immune-apparatus",
   "metadata": {},
   "outputs": [],
   "source": [
    "df = spark_session.createDataFrame(lista_de_coordenadas,[\"id\",\"Latitude\",\"Longitude\"])"
   ]
  },
  {
   "cell_type": "code",
   "execution_count": 10,
   "id": "inside-provider",
   "metadata": {},
   "outputs": [
    {
     "name": "stdout",
     "output_type": "stream",
     "text": [
      "+---+------------+-------------+--------------------+\n",
      "| id|    Latitude|    Longitude|            features|\n",
      "+---+------------+-------------+--------------------+\n",
      "|  0|41.895080471|-87.765400451|[41.895080471,-87...|\n",
      "|  1|41.851988885|-87.689219118|[41.851988885,-87...|\n",
      "|  2|41.763647552|-87.722344693|[41.763647552,-87...|\n",
      "|  3|41.907127255|-87.678232016|[41.907127255,-87...|\n",
      "|  4|41.752596188|-87.554055126|[41.752596188,-87...|\n",
      "|  5|41.875367424|-87.627620993|[41.875367424,-87...|\n",
      "|  6|41.901851233|-87.667456951|[41.901851233,-87...|\n",
      "|  7|41.763647552|-87.722344693|[41.763647552,-87...|\n",
      "|  8|41.772613371|-87.636098706|[41.772613371,-87...|\n",
      "|  9| 41.90444226| -87.63293969|[41.90444226,-87....|\n",
      "| 10|41.876607964|-87.627644063|[41.876607964,-87...|\n",
      "| 11|41.873861861| -87.68895549|[41.873861861,-87...|\n",
      "| 12|41.742177899|-87.560010869|[41.742177899,-87...|\n",
      "| 13|41.863235129|-87.624061274|[41.863235129,-87...|\n",
      "| 14|41.832071291|-87.616978684|[41.832071291,-87...|\n",
      "| 15|41.751613643|-87.575373855|[41.751613643,-87...|\n",
      "| 16|41.685021672|-87.618008151|[41.685021672,-87...|\n",
      "| 17| 41.90706989|-87.648182264|[41.90706989,-87....|\n",
      "| 18|41.700055116|-87.702338239|[41.700055116,-87...|\n",
      "| 19|41.803227125|-87.658359911|[41.803227125,-87...|\n",
      "+---+------------+-------------+--------------------+\n",
      "only showing top 20 rows\n",
      "\n"
     ]
    }
   ],
   "source": [
    "vecAssembler = VectorAssembler(inputCols=[\"Latitude\", \"Longitude\"], outputCol=\"features\")\n",
    "new_df = vecAssembler.transform(df)\n",
    "new_df.show()"
   ]
  },
  {
   "cell_type": "markdown",
   "id": "comprehensive-prediction",
   "metadata": {},
   "source": [
    "Now, I have studied which is the apropiate number of cluster to this problem. "
   ]
  },
  {
   "cell_type": "code",
   "execution_count": 11,
   "id": "minor-liquid",
   "metadata": {},
   "outputs": [],
   "source": [
    "dataset = new_df.select(\"features\")\n",
    "y=[0.6862286052103499,0.538236470369552,0.5373711996549025,0.5041161305750761,0.5209507771054922,0.5832396654338698,0.5595816753151497,  0.5848868449192102, 0.5591301265407447,0.5583415991085846,0.5648774663775893,0.5630837365953455,0.5674995124679105,0.5544715951229879,0.5748381724698486,0.5711645853499316,0.5535652864225256,0.5413676750019638]\n",
    "x=[2,3,4,5,6,7,8,9,10,11,12,13,14,15,16,17,18,19]"
   ]
  },
  {
   "cell_type": "code",
   "execution_count": 12,
   "id": "consecutive-advice",
   "metadata": {},
   "outputs": [
    {
     "name": "stdout",
     "output_type": "stream",
     "text": [
      "Silhouette with squared euclidean distance = 0.558903514132928\n"
     ]
    }
   ],
   "source": [
    "# It is only necessary to change the following number to compute the silhouette measure\n",
    "n_clusters=20\n",
    "kmeans = KMeans(k=n_clusters, seed=1)\n",
    "model = kmeans.fit(dataset)\n",
    "\n",
    "# Make predictions\n",
    "predictions = model.transform(new_df)\n",
    "\n",
    "# Evaluate clustering by computing Silhouette score\n",
    "evaluator = ClusteringEvaluator()\n",
    "\n",
    "silhouette = evaluator.evaluate(predictions)\n",
    "print(\"Silhouette with squared euclidean distance = \" + str(silhouette))\n",
    "y.append(silhouette)\n",
    "x.append(n_clusters)"
   ]
  },
  {
   "cell_type": "markdown",
   "id": "threaded-republican",
   "metadata": {},
   "source": [
    "In the following cell, I have drawn the results, and we can conclude that the better quantity of cluster is 2, because has the maximum value in the following graphic."
   ]
  },
  {
   "cell_type": "code",
   "execution_count": 13,
   "id": "treated-chicken",
   "metadata": {},
   "outputs": [
    {
     "data": {
      "image/png": "[encoded data removed]",
      "text/plain": [
       "<Figure size 432x288 with 1 Axes>"
      ]
     },
     "metadata": {
      "needs_background": "light"
     },
     "output_type": "display_data"
    }
   ],
   "source": [
    "plt.plot(x, y, 'ro-', markersize=8, lw=2)\n",
    "plt.grid(True)\n",
    "plt.xlabel('Num Clusters')\n",
    "plt.ylabel('Silhouette measure')\n",
    "plt.show()"
   ]
  },
  {
   "cell_type": "code",
   "execution_count": 14,
   "id": "smart-catholic",
   "metadata": {},
   "outputs": [],
   "source": [
    "number_of_clusters = 2"
   ]
  },
  {
   "cell_type": "code",
   "execution_count": 15,
   "id": "pharmaceutical-acoustic",
   "metadata": {},
   "outputs": [],
   "source": [
    "kmeans = KMeans(k=number_of_clusters, seed=1)\n",
    "model = kmeans.fit(new_df.select(\"features\"))"
   ]
  },
  {
   "cell_type": "code",
   "execution_count": 16,
   "id": "expired-moldova",
   "metadata": {},
   "outputs": [
    {
     "name": "stdout",
     "output_type": "stream",
     "text": [
      "+---+------------+-------------+----------------------------+----------+\n",
      "|id |Latitude    |Longitude    |features                    |prediction|\n",
      "+---+------------+-------------+----------------------------+----------+\n",
      "|0  |41.895080471|-87.765400451|[41.895080471,-87.765400451]|0         |\n",
      "|1  |41.851988885|-87.689219118|[41.851988885,-87.689219118]|0         |\n",
      "|2  |41.763647552|-87.722344693|[41.763647552,-87.722344693]|1         |\n",
      "|3  |41.907127255|-87.678232016|[41.907127255,-87.678232016]|0         |\n",
      "|4  |41.752596188|-87.554055126|[41.752596188,-87.554055126]|1         |\n",
      "|5  |41.875367424|-87.627620993|[41.875367424,-87.627620993]|0         |\n",
      "|6  |41.901851233|-87.667456951|[41.901851233,-87.667456951]|0         |\n",
      "|7  |41.763647552|-87.722344693|[41.763647552,-87.722344693]|1         |\n",
      "|8  |41.772613371|-87.636098706|[41.772613371,-87.636098706]|1         |\n",
      "|9  |41.90444226 |-87.63293969 |[41.90444226,-87.63293969]  |0         |\n",
      "|10 |41.876607964|-87.627644063|[41.876607964,-87.627644063]|0         |\n",
      "|11 |41.873861861|-87.68895549 |[41.873861861,-87.68895549] |0         |\n",
      "|12 |41.742177899|-87.560010869|[41.742177899,-87.560010869]|1         |\n",
      "|13 |41.863235129|-87.624061274|[41.863235129,-87.624061274]|0         |\n",
      "|14 |41.832071291|-87.616978684|[41.832071291,-87.616978684]|1         |\n",
      "|15 |41.751613643|-87.575373855|[41.751613643,-87.575373855]|1         |\n",
      "|16 |41.685021672|-87.618008151|[41.685021672,-87.618008151]|1         |\n",
      "|17 |41.90706989 |-87.648182264|[41.90706989,-87.648182264] |0         |\n",
      "|18 |41.700055116|-87.702338239|[41.700055116,-87.702338239]|1         |\n",
      "|19 |41.803227125|-87.658359911|[41.803227125,-87.658359911]|1         |\n",
      "+---+------------+-------------+----------------------------+----------+\n",
      "only showing top 20 rows\n",
      "\n"
     ]
    }
   ],
   "source": [
    "transformed = model.transform(new_df)\n",
    "transformed.show(truncate=False)"
   ]
  },
  {
   "cell_type": "code",
   "execution_count": 17,
   "id": "documented-morrison",
   "metadata": {},
   "outputs": [],
   "source": [
    "#model.save(\"K-Means Crimen Locations\")"
   ]
  },
  {
   "cell_type": "code",
   "execution_count": 18,
   "id": "elementary-seller",
   "metadata": {},
   "outputs": [],
   "source": [
    "locations_per_cluster=transformed\\\n",
    "    .groupBy(\"prediction\")\\\n",
    "    .count()\\\n",
    "    .orderBy(\"prediction\")"
   ]
  },
  {
   "cell_type": "code",
   "execution_count": 19,
   "id": "detected-detective",
   "metadata": {},
   "outputs": [
    {
     "name": "stdout",
     "output_type": "stream",
     "text": [
      "[[0, 954449, array([ 41.91529452, -87.68575324])], [1, 568413, array([ 41.76324405, -87.63976608])]]\n"
     ]
    }
   ],
   "source": [
    "cluster_num_locations=[]\n",
    "\n",
    "centers = model.clusterCenters()\n",
    "\n",
    "i=0\n",
    "for (x,y) in locations_per_cluster.collect():\n",
    "    cluster_num_locations.append([x,y,centers[i]])\n",
    "    i+=1\n",
    "    \n",
    "cluster_num_locations=(sorted(cluster_num_locations))\n",
    "print(cluster_num_locations)"
   ]
  },
  {
   "cell_type": "code",
   "execution_count": 20,
   "id": "accomplished-thread",
   "metadata": {},
   "outputs": [
    {
     "name": "stdout",
     "output_type": "stream",
     "text": [
      "Cluster: 0,\tCentroid: [ 41.91529452 -87.68575324],\tSize of the cluster: 954449\n",
      "Cluster: 1,\tCentroid: [ 41.76324405 -87.63976608],\tSize of the cluster: 568413\n"
     ]
    }
   ],
   "source": [
    "for (cluster, size, centroid) in cluster_num_locations:\n",
    "    print(\"Cluster: \"+str(cluster)+\",\\t\"+ \"Centroid: \"+str(centroid)+\",\\t\"+\"Size of the cluster: \"+str(size))    "
   ]
  },
  {
   "cell_type": "code",
   "execution_count": 21,
   "id": "treated-matter",
   "metadata": {},
   "outputs": [
    {
     "name": "stdout",
     "output_type": "stream",
     "text": [
      "True\n"
     ]
    }
   ],
   "source": [
    "print(str(model.hasSummary))"
   ]
  },
  {
   "cell_type": "code",
   "execution_count": 22,
   "id": "intermediate-might",
   "metadata": {},
   "outputs": [],
   "source": [
    "mapa = folium.Map(location=(41.888048, -87.526434), zoom_start=11)"
   ]
  },
  {
   "cell_type": "code",
   "execution_count": 23,
   "id": "guilty-steering",
   "metadata": {},
   "outputs": [],
   "source": [
    "for (cluster, size, centroid) in cluster_num_locations:\n",
    "    coordenada = (centroid[0], centroid[1])\n",
    "    marcador = folium.Marker(location=coordenada, popup=\"Cluster: \"+str(cluster)+\"\\n\"+\"Center: \"+str(centroid)+\"\\n\"+\"Size of the cluster: \"+str(size),icon=folium.Icon(color='blue'))\n",
    "    marcador.add_to(mapa)"
   ]
  },
  {
   "cell_type": "code",
   "execution_count": 24,
   "id": "fitted-immunology",
   "metadata": {},
   "outputs": [
    {
     "data": {
      "text/plain": [
       "<folium.map.LayerControl at 0x220cb67f730>"
      ]
     },
     "execution_count": 24,
     "metadata": {},
     "output_type": "execute_result"
    }
   ],
   "source": [
    "folium.LayerControl().add_to(mapa)"
   ]
  },
  {
   "cell_type": "code",
   "execution_count": 25,
   "id": "liked-release",
   "metadata": {},
   "outputs": [],
   "source": [
    "mapa.save(outfile='D:\\Dropbox\\Pablo\\Master\\Modulo 11. Scalable Data processing. Machine Learning and Streaming\\Tareas\\Tarea Advaced 2\\mapa.html')"
   ]
  },
  {
   "cell_type": "code",
   "execution_count": 26,
   "id": "affected-conference",
   "metadata": {},
   "outputs": [
    {
     "data": {
      "text/html": [
       "<div style=\"width:100%;\"><div style=\"position:relative;width:100%;height:0;padding-bottom:60%;\"><span style=\"color:#565656\">Make this Notebook Trusted to load map: File -> Trust Notebook</span><iframe src=\"about:blank\" style=\"position:absolute;width:100%;height:100%;left:0;top:0;border:none !important;\" data-html=%3C%21DOCTYPE%20html%3E%0A%3Chead%3E%20%20%20%20%0A%20%20%20%20%3Cmeta%20http-equiv%3D%22content-type%22%20content%3D%22text/html%3B%20charset%3DUTF-8%22%20/%3E%0A%20%20%20%20%0A%20%20%20%20%20%20%20%20%3Cscript%3E%0A%20%20%20%20%20%20%20%20%20%20%20%20L_NO_TOUCH%20%3D%20false%3B%0A%20%20%20%20%20%20%20%20%20%20%20%20L_DISABLE_3D%20%3D%20false%3B%0A%20%20%20%20%20%20%20%20%3C/script%3E%0A%20%20%20%20%0A%20%20%20%20%3Cstyle%3Ehtml%2C%20body%20%7Bwidth%3A%20100%25%3Bheight%3A%20100%25%3Bmargin%3A%200%3Bpadding%3A%200%3B%7D%3C/style%3E%0A%20%20%20%20%3Cstyle%3E%23map%20%7Bposition%3Aabsolute%3Btop%3A0%3Bbottom%3A0%3Bright%3A0%3Bleft%3A0%3B%7D%3C/style%3E%0A%20%20%20%20%3Cscript%20src%3D%22https%3A//cdn.jsdelivr.net/npm/leaflet%401.6.0/dist/leaflet.js%22%3E%3C/script%3E%0A%20%20%20%20%3Cscript%20src%3D%22https%3A//code.jquery.com/jquery-1.12.4.min.js%22%3E%3C/script%3E%0A%20%20%20%20%3Cscript%20src%3D%22https%3A//maxcdn.bootstrapcdn.com/bootstrap/3.2.0/js/bootstrap.min.js%22%3E%3C/script%3E%0A%20%20%20%20%3Cscript%20src%3D%22https%3A//cdnjs.cloudflare.com/ajax/libs/Leaflet.awesome-markers/2.0.2/leaflet.awesome-markers.js%22%3E%3C/script%3E%0A%20%20%20%20%3Clink%20rel%3D%22stylesheet%22%20href%3D%22https%3A//cdn.jsdelivr.net/npm/leaflet%401.6.0/dist/leaflet.css%22/%3E%0A%20%20%20%20%3Clink%20rel%3D%22stylesheet%22%20href%3D%22https%3A//maxcdn.bootstrapcdn.com/bootstrap/3.2.0/css/bootstrap.min.css%22/%3E%0A%20%20%20%20%3Clink%20rel%3D%22stylesheet%22%20href%3D%22https%3A//maxcdn.bootstrapcdn.com/bootstrap/3.2.0/css/bootstrap-theme.min.css%22/%3E%0A%20%20%20%20%3Clink%20rel%3D%22stylesheet%22%20href%3D%22https%3A//maxcdn.bootstrapcdn.com/font-awesome/4.6.3/css/font-awesome.min.css%22/%3E%0A%20%20%20%20%3Clink%20rel%3D%22stylesheet%22%20href%3D%22https%3A//cdnjs.cloudflare.com/ajax/libs/Leaflet.awesome-markers/2.0.2/leaflet.awesome-markers.css%22/%3E%0A%20%20%20%20%3Clink%20rel%3D%22stylesheet%22%20href%3D%22https%3A//cdn.jsdelivr.net/gh/python-visualization/folium/folium/templates/leaflet.awesome.rotate.min.css%22/%3E%0A%20%20%20%20%0A%20%20%20%20%20%20%20%20%20%20%20%20%3Cmeta%20name%3D%22viewport%22%20content%3D%22width%3Ddevice-width%2C%0A%20%20%20%20%20%20%20%20%20%20%20%20%20%20%20%20initial-scale%3D1.0%2C%20maximum-scale%3D1.0%2C%20user-scalable%3Dno%22%20/%3E%0A%20%20%20%20%20%20%20%20%20%20%20%20%3Cstyle%3E%0A%20%20%20%20%20%20%20%20%20%20%20%20%20%20%20%20%23map_7446c4b4eac7490b88884f6f698d1198%20%7B%0A%20%20%20%20%20%20%20%20%20%20%20%20%20%20%20%20%20%20%20%20position%3A%20relative%3B%0A%20%20%20%20%20%20%20%20%20%20%20%20%20%20%20%20%20%20%20%20width%3A%20100.0%25%3B%0A%20%20%20%20%20%20%20%20%20%20%20%20%20%20%20%20%20%20%20%20height%3A%20100.0%25%3B%0A%20%20%20%20%20%20%20%20%20%20%20%20%20%20%20%20%20%20%20%20left%3A%200.0%25%3B%0A%20%20%20%20%20%20%20%20%20%20%20%20%20%20%20%20%20%20%20%20top%3A%200.0%25%3B%0A%20%20%20%20%20%20%20%20%20%20%20%20%20%20%20%20%7D%0A%20%20%20%20%20%20%20%20%20%20%20%20%3C/style%3E%0A%20%20%20%20%20%20%20%20%0A%3C/head%3E%0A%3Cbody%3E%20%20%20%20%0A%20%20%20%20%0A%20%20%20%20%20%20%20%20%20%20%20%20%3Cdiv%20class%3D%22folium-map%22%20id%3D%22map_7446c4b4eac7490b88884f6f698d1198%22%20%3E%3C/div%3E%0A%20%20%20%20%20%20%20%20%0A%3C/body%3E%0A%3Cscript%3E%20%20%20%20%0A%20%20%20%20%0A%20%20%20%20%20%20%20%20%20%20%20%20var%20map_7446c4b4eac7490b88884f6f698d1198%20%3D%20L.map%28%0A%20%20%20%20%20%20%20%20%20%20%20%20%20%20%20%20%22map_7446c4b4eac7490b88884f6f698d1198%22%2C%0A%20%20%20%20%20%20%20%20%20%20%20%20%20%20%20%20%7B%0A%20%20%20%20%20%20%20%20%20%20%20%20%20%20%20%20%20%20%20%20center%3A%20%5B41.888048%2C%20-87.526434%5D%2C%0A%20%20%20%20%20%20%20%20%20%20%20%20%20%20%20%20%20%20%20%20crs%3A%20L.CRS.EPSG3857%2C%0A%20%20%20%20%20%20%20%20%20%20%20%20%20%20%20%20%20%20%20%20zoom%3A%2011%2C%0A%20%20%20%20%20%20%20%20%20%20%20%20%20%20%20%20%20%20%20%20zoomControl%3A%20true%2C%0A%20%20%20%20%20%20%20%20%20%20%20%20%20%20%20%20%20%20%20%20preferCanvas%3A%20false%2C%0A%20%20%20%20%20%20%20%20%20%20%20%20%20%20%20%20%7D%0A%20%20%20%20%20%20%20%20%20%20%20%20%29%3B%0A%0A%20%20%20%20%20%20%20%20%20%20%20%20%0A%0A%20%20%20%20%20%20%20%20%0A%20%20%20%20%0A%20%20%20%20%20%20%20%20%20%20%20%20var%20tile_layer_8eedd6505d6f4f6a9bcd522a8836d0b9%20%3D%20L.tileLayer%28%0A%20%20%20%20%20%20%20%20%20%20%20%20%20%20%20%20%22https%3A//%7Bs%7D.tile.openstreetmap.org/%7Bz%7D/%7Bx%7D/%7By%7D.png%22%2C%0A%20%20%20%20%20%20%20%20%20%20%20%20%20%20%20%20%7B%22attribution%22%3A%20%22Data%20by%20%5Cu0026copy%3B%20%5Cu003ca%20href%3D%5C%22http%3A//openstreetmap.org%5C%22%5Cu003eOpenStreetMap%5Cu003c/a%5Cu003e%2C%20under%20%5Cu003ca%20href%3D%5C%22http%3A//www.openstreetmap.org/copyright%5C%22%5Cu003eODbL%5Cu003c/a%5Cu003e.%22%2C%20%22detectRetina%22%3A%20false%2C%20%22maxNativeZoom%22%3A%2018%2C%20%22maxZoom%22%3A%2018%2C%20%22minZoom%22%3A%200%2C%20%22noWrap%22%3A%20false%2C%20%22opacity%22%3A%201%2C%20%22subdomains%22%3A%20%22abc%22%2C%20%22tms%22%3A%20false%7D%0A%20%20%20%20%20%20%20%20%20%20%20%20%29.addTo%28map_7446c4b4eac7490b88884f6f698d1198%29%3B%0A%20%20%20%20%20%20%20%20%0A%20%20%20%20%0A%20%20%20%20%20%20%20%20%20%20%20%20var%20marker_b3651d2c75e049a4a8d8ad6e5bd96c3d%20%3D%20L.marker%28%0A%20%20%20%20%20%20%20%20%20%20%20%20%20%20%20%20%5B41.915294522792856%2C%20-87.68575323636742%5D%2C%0A%20%20%20%20%20%20%20%20%20%20%20%20%20%20%20%20%7B%7D%0A%20%20%20%20%20%20%20%20%20%20%20%20%29.addTo%28map_7446c4b4eac7490b88884f6f698d1198%29%3B%0A%20%20%20%20%20%20%20%20%0A%20%20%20%20%0A%20%20%20%20%20%20%20%20%20%20%20%20var%20icon_bafff4ce49fc40f8976a4fb1f542523d%20%3D%20L.AwesomeMarkers.icon%28%0A%20%20%20%20%20%20%20%20%20%20%20%20%20%20%20%20%7B%22extraClasses%22%3A%20%22fa-rotate-0%22%2C%20%22icon%22%3A%20%22info-sign%22%2C%20%22iconColor%22%3A%20%22white%22%2C%20%22markerColor%22%3A%20%22blue%22%2C%20%22prefix%22%3A%20%22glyphicon%22%7D%0A%20%20%20%20%20%20%20%20%20%20%20%20%29%3B%0A%20%20%20%20%20%20%20%20%20%20%20%20marker_b3651d2c75e049a4a8d8ad6e5bd96c3d.setIcon%28icon_bafff4ce49fc40f8976a4fb1f542523d%29%3B%0A%20%20%20%20%20%20%20%20%0A%20%20%20%20%0A%20%20%20%20%20%20%20%20var%20popup_b18906ebd60d4283be30fe890eb7c7f1%20%3D%20L.popup%28%7B%22maxWidth%22%3A%20%22100%25%22%7D%29%3B%0A%0A%20%20%20%20%20%20%20%20%0A%20%20%20%20%20%20%20%20%20%20%20%20var%20html_caa051823c774be9a6cc71ad1e37ad6c%20%3D%20%24%28%60%3Cdiv%20id%3D%22html_caa051823c774be9a6cc71ad1e37ad6c%22%20style%3D%22width%3A%20100.0%25%3B%20height%3A%20100.0%25%3B%22%3ECluster%3A%200%20Center%3A%20%5B%2041.91529452%20-87.68575324%5D%20Size%20of%20the%20cluster%3A%20954449%3C/div%3E%60%29%5B0%5D%3B%0A%20%20%20%20%20%20%20%20%20%20%20%20popup_b18906ebd60d4283be30fe890eb7c7f1.setContent%28html_caa051823c774be9a6cc71ad1e37ad6c%29%3B%0A%20%20%20%20%20%20%20%20%0A%0A%20%20%20%20%20%20%20%20marker_b3651d2c75e049a4a8d8ad6e5bd96c3d.bindPopup%28popup_b18906ebd60d4283be30fe890eb7c7f1%29%0A%20%20%20%20%20%20%20%20%3B%0A%0A%20%20%20%20%20%20%20%20%0A%20%20%20%20%0A%20%20%20%20%0A%20%20%20%20%20%20%20%20%20%20%20%20var%20marker_5384dddc42144239a17403da6fc798e6%20%3D%20L.marker%28%0A%20%20%20%20%20%20%20%20%20%20%20%20%20%20%20%20%5B41.76324405365602%2C%20-87.63976608081207%5D%2C%0A%20%20%20%20%20%20%20%20%20%20%20%20%20%20%20%20%7B%7D%0A%20%20%20%20%20%20%20%20%20%20%20%20%29.addTo%28map_7446c4b4eac7490b88884f6f698d1198%29%3B%0A%20%20%20%20%20%20%20%20%0A%20%20%20%20%0A%20%20%20%20%20%20%20%20%20%20%20%20var%20icon_1519d1204718409b8a9eb535d4f88dbb%20%3D%20L.AwesomeMarkers.icon%28%0A%20%20%20%20%20%20%20%20%20%20%20%20%20%20%20%20%7B%22extraClasses%22%3A%20%22fa-rotate-0%22%2C%20%22icon%22%3A%20%22info-sign%22%2C%20%22iconColor%22%3A%20%22white%22%2C%20%22markerColor%22%3A%20%22blue%22%2C%20%22prefix%22%3A%20%22glyphicon%22%7D%0A%20%20%20%20%20%20%20%20%20%20%20%20%29%3B%0A%20%20%20%20%20%20%20%20%20%20%20%20marker_5384dddc42144239a17403da6fc798e6.setIcon%28icon_1519d1204718409b8a9eb535d4f88dbb%29%3B%0A%20%20%20%20%20%20%20%20%0A%20%20%20%20%0A%20%20%20%20%20%20%20%20var%20popup_b34dbc3a26a2459e9130ab45d77063ed%20%3D%20L.popup%28%7B%22maxWidth%22%3A%20%22100%25%22%7D%29%3B%0A%0A%20%20%20%20%20%20%20%20%0A%20%20%20%20%20%20%20%20%20%20%20%20var%20html_9c080486e5a945f3ac5e2fa65eeacc36%20%3D%20%24%28%60%3Cdiv%20id%3D%22html_9c080486e5a945f3ac5e2fa65eeacc36%22%20style%3D%22width%3A%20100.0%25%3B%20height%3A%20100.0%25%3B%22%3ECluster%3A%201%20Center%3A%20%5B%2041.76324405%20-87.63976608%5D%20Size%20of%20the%20cluster%3A%20568413%3C/div%3E%60%29%5B0%5D%3B%0A%20%20%20%20%20%20%20%20%20%20%20%20popup_b34dbc3a26a2459e9130ab45d77063ed.setContent%28html_9c080486e5a945f3ac5e2fa65eeacc36%29%3B%0A%20%20%20%20%20%20%20%20%0A%0A%20%20%20%20%20%20%20%20marker_5384dddc42144239a17403da6fc798e6.bindPopup%28popup_b34dbc3a26a2459e9130ab45d77063ed%29%0A%20%20%20%20%20%20%20%20%3B%0A%0A%20%20%20%20%20%20%20%20%0A%20%20%20%20%0A%20%20%20%20%0A%20%20%20%20%20%20%20%20%20%20%20%20var%20layer_control_fc437e72348543089d46b973d04efc11%20%3D%20%7B%0A%20%20%20%20%20%20%20%20%20%20%20%20%20%20%20%20base_layers%20%3A%20%7B%0A%20%20%20%20%20%20%20%20%20%20%20%20%20%20%20%20%20%20%20%20%22openstreetmap%22%20%3A%20tile_layer_8eedd6505d6f4f6a9bcd522a8836d0b9%2C%0A%20%20%20%20%20%20%20%20%20%20%20%20%20%20%20%20%7D%2C%0A%20%20%20%20%20%20%20%20%20%20%20%20%20%20%20%20overlays%20%3A%20%20%7B%0A%20%20%20%20%20%20%20%20%20%20%20%20%20%20%20%20%7D%2C%0A%20%20%20%20%20%20%20%20%20%20%20%20%7D%3B%0A%20%20%20%20%20%20%20%20%20%20%20%20L.control.layers%28%0A%20%20%20%20%20%20%20%20%20%20%20%20%20%20%20%20layer_control_fc437e72348543089d46b973d04efc11.base_layers%2C%0A%20%20%20%20%20%20%20%20%20%20%20%20%20%20%20%20layer_control_fc437e72348543089d46b973d04efc11.overlays%2C%0A%20%20%20%20%20%20%20%20%20%20%20%20%20%20%20%20%7B%22autoZIndex%22%3A%20true%2C%20%22collapsed%22%3A%20true%2C%20%22position%22%3A%20%22topright%22%7D%0A%20%20%20%20%20%20%20%20%20%20%20%20%29.addTo%28map_7446c4b4eac7490b88884f6f698d1198%29%3B%0A%20%20%20%20%20%20%20%20%0A%3C/script%3E onload=\"this.contentDocument.open();this.contentDocument.write(    decodeURIComponent(this.getAttribute('data-html')));this.contentDocument.close();\" allowfullscreen webkitallowfullscreen mozallowfullscreen></iframe></div></div>"
      ],
      "text/plain": [
       "<folium.folium.Map at 0x220cb66da00>"
      ]
     },
     "execution_count": 26,
     "metadata": {},
     "output_type": "execute_result"
    }
   ],
   "source": [
    "mapa"
   ]
  },
  {
   "cell_type": "code",
   "execution_count": 27,
   "id": "dress-requirement",
   "metadata": {},
   "outputs": [],
   "source": [
    "spark_session.stop()"
   ]
  }
 ],
 "metadata": {
  "kernelspec": {
   "display_name": "Python 3",
   "language": "python",
   "name": "python3"
  },
  "language_info": {
   "codemirror_mode": {
    "name": "ipython",
    "version": 3
   },
   "file_extension": ".py",
   "mimetype": "text/x-python",
   "name": "python",
   "nbconvert_exporter": "python",
   "pygments_lexer": "ipython3",
   "version": "3.9.2"
  }
 },
 "nbformat": 4,
 "nbformat_minor": 5
}
