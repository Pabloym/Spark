{
 "cells": [
  {
   "cell_type": "markdown",
   "id": "narrative-fence",
   "metadata": {},
   "source": [
    "# Random Forest"
   ]
  },
  {
   "cell_type": "markdown",
   "id": "civil-smooth",
   "metadata": {},
   "source": [
    "## Module 11. Scalable Data processing: Machine learning and Streaming"
   ]
  },
  {
   "cell_type": "markdown",
   "id": "verbal-alabama",
   "metadata": {},
   "source": [
    "## Pablo Yañez Martin"
   ]
  },
  {
   "cell_type": "code",
   "execution_count": 1,
   "id": "destroyed-limit",
   "metadata": {},
   "outputs": [],
   "source": [
    "from pyspark.ml import Pipeline\n",
    "from pyspark.ml.classification import RandomForestClassifier\n",
    "from pyspark.ml.evaluation import MulticlassClassificationEvaluator\n",
    "from pyspark.ml.feature import StringIndexer, VectorIndexer, IndexToString\n",
    "from pyspark.sql import SparkSession"
   ]
  },
  {
   "cell_type": "code",
   "execution_count": 2,
   "id": "engaging-haiti",
   "metadata": {},
   "outputs": [],
   "source": [
    "spark_session = SparkSession\\\n",
    "    .builder\\\n",
    "    .appName(\"SparkML Random Forest\")\\\n",
    "    .master(\"local[*]\")\\\n",
    "    .getOrCreate()"
   ]
  },
  {
   "cell_type": "code",
   "execution_count": 5,
   "id": "attended-concentrate",
   "metadata": {},
   "outputs": [],
   "source": [
    "data = spark_session\\\n",
    "    .read\\\n",
    "    .format(\"libsvm\")\\\n",
    "    .load(\"D:/Dropbox/Pablo/Master/Modulo 11. Scalable Data processing. Machine Learning and Streaming/Practicas/Datos/breast-cancer_scale\")"
   ]
  },
  {
   "cell_type": "code",
   "execution_count": 6,
   "id": "successful-underground",
   "metadata": {},
   "outputs": [
    {
     "name": "stdout",
     "output_type": "stream",
     "text": [
      "root\n",
      " |-- label: double (nullable = true)\n",
      " |-- features: vector (nullable = true)\n",
      "\n",
      "+-----+--------------------+\n",
      "|label|            features|\n",
      "+-----+--------------------+\n",
      "|  2.0|(10,[0,1,2,3,4,5,...|\n",
      "|  2.0|(10,[0,1,2,3,4,5,...|\n",
      "|  2.0|(10,[0,1,2,3,4,5,...|\n",
      "|  2.0|(10,[0,1,2,3,4,5,...|\n",
      "|  2.0|(10,[0,1,2,3,4,5,...|\n",
      "|  4.0|(10,[0,1,2,3,4,5,...|\n",
      "|  2.0|(10,[0,1,2,3,4,5,...|\n",
      "|  2.0|(10,[0,1,2,3,4,5,...|\n",
      "|  2.0|(10,[0,1,2,3,4,5,...|\n",
      "|  2.0|(10,[0,1,2,3,4,5,...|\n",
      "|  2.0|(10,[0,1,2,3,4,5,...|\n",
      "|  2.0|(10,[0,1,2,3,4,5,...|\n",
      "|  4.0|(10,[0,1,2,3,4,5,...|\n",
      "|  2.0|(10,[0,1,2,3,4,5,...|\n",
      "|  4.0|(10,[0,1,2,3,4,5,...|\n",
      "|  4.0|(10,[0,1,2,3,4,5,...|\n",
      "|  2.0|(10,[0,1,2,3,4,5,...|\n",
      "|  2.0|(10,[0,1,2,3,4,5,...|\n",
      "|  4.0|(10,[0,1,2,3,4,5,...|\n",
      "|  2.0|(10,[0,1,2,3,4,5,...|\n",
      "+-----+--------------------+\n",
      "only showing top 20 rows\n",
      "\n"
     ]
    }
   ],
   "source": [
    "data.printSchema()\n",
    "data.show()"
   ]
  },
  {
   "cell_type": "code",
   "execution_count": 7,
   "id": "overall-sydney",
   "metadata": {},
   "outputs": [],
   "source": [
    "labelIndexer = StringIndexer(inputCol=\"label\", outputCol=\"indexedLabel\").fit(data)"
   ]
  },
  {
   "cell_type": "code",
   "execution_count": 8,
   "id": "alive-saturday",
   "metadata": {},
   "outputs": [],
   "source": [
    "featureIndexer =\\\n",
    "    VectorIndexer(inputCol=\"features\", outputCol=\"indexedFeatures\", maxCategories=2).fit(data)"
   ]
  },
  {
   "cell_type": "code",
   "execution_count": 9,
   "id": "liquid-rugby",
   "metadata": {},
   "outputs": [],
   "source": [
    "(trainingData, testData) = data.randomSplit([0.75, 0.25])"
   ]
  },
  {
   "cell_type": "code",
   "execution_count": 10,
   "id": "fixed-collect",
   "metadata": {},
   "outputs": [],
   "source": [
    "random_forest = RandomForestClassifier(labelCol=\"indexedLabel\", featuresCol=\"indexedFeatures\", numTrees=10)"
   ]
  },
  {
   "cell_type": "code",
   "execution_count": 11,
   "id": "rough-coach",
   "metadata": {},
   "outputs": [],
   "source": [
    "labelConverter = IndexToString(inputCol=\"prediction\", outputCol=\"predictedLabel\",\n",
    "                               labels=labelIndexer.labels)"
   ]
  },
  {
   "cell_type": "code",
   "execution_count": 12,
   "id": "guilty-miller",
   "metadata": {},
   "outputs": [],
   "source": [
    "pipeline = Pipeline(stages=[labelIndexer, featureIndexer, random_forest, labelConverter])"
   ]
  },
  {
   "cell_type": "code",
   "execution_count": 13,
   "id": "higher-interpretation",
   "metadata": {},
   "outputs": [],
   "source": [
    "model = pipeline.fit(trainingData)"
   ]
  },
  {
   "cell_type": "code",
   "execution_count": 14,
   "id": "collect-healing",
   "metadata": {},
   "outputs": [],
   "source": [
    "predictions = model.transform(testData)"
   ]
  },
  {
   "cell_type": "code",
   "execution_count": 15,
   "id": "declared-tract",
   "metadata": {},
   "outputs": [
    {
     "name": "stdout",
     "output_type": "stream",
     "text": [
      "+--------------+-----+--------------------+\n",
      "|predictedLabel|label|            features|\n",
      "+--------------+-----+--------------------+\n",
      "|           2.0|  2.0|(10,[0,1,2,3,4,5,...|\n",
      "|           4.0|  2.0|(10,[0,1,2,3,4,5,...|\n",
      "|           2.0|  2.0|(10,[0,1,2,3,4,5,...|\n",
      "|           2.0|  2.0|(10,[0,1,2,3,4,5,...|\n",
      "|           2.0|  2.0|(10,[0,1,2,3,4,5,...|\n",
      "+--------------+-----+--------------------+\n",
      "only showing top 5 rows\n",
      "\n"
     ]
    }
   ],
   "source": [
    "predictions.select(\"predictedLabel\", \"label\", \"features\").show(5)"
   ]
  },
  {
   "cell_type": "code",
   "execution_count": 16,
   "id": "underlying-washer",
   "metadata": {},
   "outputs": [
    {
     "name": "stdout",
     "output_type": "stream",
     "text": [
      "Test Error = 0.0232558\n"
     ]
    }
   ],
   "source": [
    "evaluator = MulticlassClassificationEvaluator(\n",
    "    labelCol=\"indexedLabel\", predictionCol=\"prediction\", metricName=\"accuracy\")\n",
    "accuracy = evaluator.evaluate(predictions)\n",
    "print(\"Test Error = %g\" % (1.0 - accuracy))"
   ]
  },
  {
   "cell_type": "code",
   "execution_count": 17,
   "id": "micro-lunch",
   "metadata": {},
   "outputs": [
    {
     "name": "stdout",
     "output_type": "stream",
     "text": [
      "RandomForestClassificationModel: uid=RandomForestClassifier_a902e947c9ba, numTrees=10, numClasses=2, numFeatures=10\n"
     ]
    }
   ],
   "source": [
    "rfModel = model.stages[2]\n",
    "print(rfModel)"
   ]
  }
 ],
 "metadata": {
  "kernelspec": {
   "display_name": "Python 3",
   "language": "python",
   "name": "python3"
  },
  "language_info": {
   "codemirror_mode": {
    "name": "ipython",
    "version": 3
   },
   "file_extension": ".py",
   "mimetype": "text/x-python",
   "name": "python",
   "nbconvert_exporter": "python",
   "pygments_lexer": "ipython3",
   "version": "3.9.2"
  }
 },
 "nbformat": 4,
 "nbformat_minor": 5
}
