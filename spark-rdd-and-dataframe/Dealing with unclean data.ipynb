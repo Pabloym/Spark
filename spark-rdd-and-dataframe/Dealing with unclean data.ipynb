{
 "cells": [
  {
   "cell_type": "markdown",
   "id": "elder-recruitment",
   "metadata": {},
   "source": [
    "# Module 9. Scalable Data Processing"
   ]
  },
  {
   "cell_type": "markdown",
   "id": "streaming-forum",
   "metadata": {},
   "source": [
    "## Advanced Task 1. Dealing with unclean data"
   ]
  },
  {
   "cell_type": "markdown",
   "id": "dedicated-questionnaire",
   "metadata": {},
   "source": [
    "### Pablo Yañez Martin"
   ]
  },
  {
   "cell_type": "code",
   "execution_count": 1,
   "id": "statutory-student",
   "metadata": {},
   "outputs": [],
   "source": [
    "from pyspark import SparkConf, SparkContext\n",
    "import matplotlib.pyplot as plt"
   ]
  },
  {
   "cell_type": "code",
   "execution_count": 2,
   "id": "continent-automation",
   "metadata": {},
   "outputs": [],
   "source": [
    "ruta = \"D:/Dropbox/Pablo/Master/Modulo 9. Scalable Data Processing/Java/Data/bridge.csv\""
   ]
  },
  {
   "cell_type": "code",
   "execution_count": 3,
   "id": "hindu-shame",
   "metadata": {},
   "outputs": [],
   "source": [
    "spark_conf = SparkConf().setAppName(\"Cleaning the dataset Bridge\").setMaster(\"local[2]\")\n",
    "spark_context = SparkContext(conf=spark_conf)"
   ]
  },
  {
   "cell_type": "code",
   "execution_count": 4,
   "id": "genetic-episode",
   "metadata": {},
   "outputs": [],
   "source": [
    "logger = spark_context._jvm.org.apache.log4j\n",
    "logger.LogManager.getLogger(\"org\").setLevel(logger.Level.WARN)"
   ]
  },
  {
   "cell_type": "markdown",
   "id": "incident-pharmaceutical",
   "metadata": {},
   "source": [
    "Reading the csv file "
   ]
  },
  {
   "cell_type": "code",
   "execution_count": 5,
   "id": "injured-growing",
   "metadata": {},
   "outputs": [],
   "source": [
    "lectura = spark_context.textFile(ruta)"
   ]
  },
  {
   "cell_type": "markdown",
   "id": "arranged-latex",
   "metadata": {},
   "source": [
    "Splitting rows of the csv"
   ]
  },
  {
   "cell_type": "code",
   "execution_count": 6,
   "id": "middle-uncle",
   "metadata": {},
   "outputs": [],
   "source": [
    "columnas=lectura.map(lambda line: line.split(','))"
   ]
  },
  {
   "cell_type": "markdown",
   "id": "early-zambia",
   "metadata": {},
   "source": [
    "All the values are Strings, we have to convert the typeof the data from string to float, in the case that are numbers, in the other case we have to reject those values, that are missing values (nulls) or values that are character ('xxxx') instead of numbers.\n",
    "In order to filter the invalid values, I have tried differents options, such as, the function isdigit() or isnumeric(), but those methods only works when are integers, not float. That is why I define the following function which convert a decimal number with the string type to a float."
   ]
  },
  {
   "cell_type": "code",
   "execution_count": 7,
   "id": "criminal-villa",
   "metadata": {},
   "outputs": [],
   "source": [
    "def isfloat(value):\n",
    "  try:\n",
    "    float(value)\n",
    "    return True\n",
    "  except ValueError:\n",
    "    return False"
   ]
  },
  {
   "cell_type": "code",
   "execution_count": 8,
   "id": "functioning-milwaukee",
   "metadata": {},
   "outputs": [],
   "source": [
    "filtro=columnas.filter(lambda array : isfloat(array[0]) and isfloat(array[1]))"
   ]
  },
  {
   "cell_type": "markdown",
   "id": "unknown-original",
   "metadata": {},
   "source": [
    "Mapping those values in a tuple"
   ]
  },
  {
   "cell_type": "code",
   "execution_count": 9,
   "id": "operating-creativity",
   "metadata": {},
   "outputs": [],
   "source": [
    "mapeo = filtro.map(lambda array : (float(array[0]),float(array[1])))"
   ]
  },
  {
   "cell_type": "markdown",
   "id": "minus-visitor",
   "metadata": {},
   "source": [
    "We will keep with the different tuples"
   ]
  },
  {
   "cell_type": "code",
   "execution_count": 10,
   "id": "norwegian-chance",
   "metadata": {},
   "outputs": [],
   "source": [
    "distintos = mapeo.distinct().collect()"
   ]
  },
  {
   "cell_type": "markdown",
   "id": "infinite-refund",
   "metadata": {},
   "source": [
    "Plotting the data cleaned"
   ]
  },
  {
   "cell_type": "code",
   "execution_count": 11,
   "id": "tight-parallel",
   "metadata": {},
   "outputs": [
    {
     "data": {
      "image/png": "[encoded data removed]",
      "text/plain": [
       "<Figure size 432x288 with 1 Axes>"
      ]
     },
     "metadata": {
      "needs_background": "light"
     },
     "output_type": "display_data"
    }
   ],
   "source": [
    "x=[]\n",
    "y=[]\n",
    "    \n",
    "for (a,b) in distintos:\n",
    "    x.append(float(a))\n",
    "    y.append(float(b))\n",
    "\n",
    "plt.plot(x,y,'*')\n",
    "plt.show()"
   ]
  },
  {
   "cell_type": "code",
   "execution_count": 12,
   "id": "alive-lawrence",
   "metadata": {},
   "outputs": [],
   "source": [
    "spark_context.stop()"
   ]
  }
 ],
 "metadata": {
  "kernelspec": {
   "display_name": "Python 3",
   "language": "python",
   "name": "python3"
  },
  "language_info": {
   "codemirror_mode": {
    "name": "ipython",
    "version": 3
   },
   "file_extension": ".py",
   "mimetype": "text/x-python",
   "name": "python",
   "nbconvert_exporter": "python",
   "pygments_lexer": "ipython3",
   "version": "3.9.2"
  }
 },
 "nbformat": 4,
 "nbformat_minor": 5
}
