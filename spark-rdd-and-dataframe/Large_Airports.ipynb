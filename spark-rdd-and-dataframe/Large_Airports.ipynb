{
 "cells": [
  {
   "cell_type": "markdown",
   "id": "ceramic-brave",
   "metadata": {},
   "source": [
    "# Module 9. Scalable Data Processing"
   ]
  },
  {
   "cell_type": "markdown",
   "id": "recovered-musical",
   "metadata": {},
   "source": [
    "## Mandatory task 6. Large Airports."
   ]
  },
  {
   "cell_type": "markdown",
   "id": "curious-nelson",
   "metadata": {},
   "source": [
    "### Pablo Yañez Martin"
   ]
  },
  {
   "cell_type": "markdown",
   "id": "martial-student",
   "metadata": {},
   "source": [
    "# RDD"
   ]
  },
  {
   "cell_type": "code",
   "execution_count": 1,
   "id": "adaptive-singapore",
   "metadata": {},
   "outputs": [],
   "source": [
    "from pyspark import SparkConf, SparkContext"
   ]
  },
  {
   "cell_type": "code",
   "execution_count": 2,
   "id": "historic-payment",
   "metadata": {},
   "outputs": [],
   "source": [
    "rutaA = \"D:/Dropbox/Pablo/Master/Modulo 9. Scalable Data Processing/Java/Data/airports.csv\"\n",
    "rutaP = \"D:/Dropbox/Pablo/Master/Modulo 9. Scalable Data Processing/Java/Data/countries.csv\" "
   ]
  },
  {
   "cell_type": "code",
   "execution_count": 3,
   "id": "hidden-standing",
   "metadata": {},
   "outputs": [],
   "source": [
    "spark_conf = SparkConf().setAppName(\"Airports_by_countryRDD\").setMaster(\"local[2]\")\n",
    "spark_context = SparkContext(conf=spark_conf)"
   ]
  },
  {
   "cell_type": "code",
   "execution_count": 4,
   "id": "impossible-howard",
   "metadata": {},
   "outputs": [],
   "source": [
    "logger = spark_context._jvm.org.apache.log4j\n",
    "logger.LogManager.getLogger(\"org\").setLevel(logger.Level.WARN)"
   ]
  },
  {
   "cell_type": "code",
   "execution_count": 5,
   "id": "alpine-disclaimer",
   "metadata": {},
   "outputs": [],
   "source": [
    "lecturaA = spark_context.textFile(rutaA)"
   ]
  },
  {
   "cell_type": "code",
   "execution_count": 6,
   "id": "yellow-compromise",
   "metadata": {},
   "outputs": [],
   "source": [
    "lecturaP = spark_context.textFile(rutaP)"
   ]
  },
  {
   "cell_type": "markdown",
   "id": "raised-sunglasses",
   "metadata": {},
   "source": [
    "Now, I will prepare the rdds in order to join both rdd. The function join in rdd work as follow: the result of join (k1,v1) with (k2,v2) is (k1,(v1,v2)) where k1=k2."
   ]
  },
  {
   "cell_type": "code",
   "execution_count": 7,
   "id": "wrong-reserve",
   "metadata": {},
   "outputs": [],
   "source": [
    "columnasP=lecturaP.map(lambda line: line.split(','))"
   ]
  },
  {
   "cell_type": "code",
   "execution_count": 8,
   "id": "neutral-landscape",
   "metadata": {},
   "outputs": [],
   "source": [
    "union1 = columnasP.map(lambda array : (array[1],array[2]))"
   ]
  },
  {
   "cell_type": "code",
   "execution_count": 9,
   "id": "fifth-nurse",
   "metadata": {},
   "outputs": [],
   "source": [
    "columnasA=lecturaA.map(lambda line: line.split(','))"
   ]
  },
  {
   "cell_type": "code",
   "execution_count": 10,
   "id": "attractive-graham",
   "metadata": {},
   "outputs": [],
   "source": [
    "union2=columnasA.map(lambda array : (array[8],array[2]))"
   ]
  },
  {
   "cell_type": "code",
   "execution_count": 11,
   "id": "concerned-mathematics",
   "metadata": {},
   "outputs": [],
   "source": [
    "union=union1.join(union2)"
   ]
  },
  {
   "cell_type": "code",
   "execution_count": 12,
   "id": "spread-mambo",
   "metadata": {},
   "outputs": [],
   "source": [
    "resultado= union\\\n",
    "        .filter(lambda array : array[1][1]==\"\\\"large_airport\\\"\")\\\n",
    "        .map(lambda array: (array[1][0], 1))\\\n",
    "        .reduceByKey(lambda a, b: a + b)\\\n",
    "        .filter(lambda par : par[1]>10)\\\n",
    "        .sortBy(lambda pair: pair[1], ascending=False)"
   ]
  },
  {
   "cell_type": "code",
   "execution_count": 13,
   "id": "single-grant",
   "metadata": {},
   "outputs": [
    {
     "name": "stdout",
     "output_type": "stream",
     "text": [
      "\"United States\" : 170\n",
      "\"China\" : 35\n",
      "\"United Kingdom\" : 27\n",
      "\"Russia\" : 21\n",
      "\"Italy\" : 17\n",
      "\"Germany\" : 16\n",
      "\"Turkey\" : 13\n",
      "\"Japan\" : 13\n",
      "\"Brazil\" : 11\n",
      "\"India\" : 11\n"
     ]
    }
   ],
   "source": [
    "for (airport,num) in resultado.collect():\n",
    "        print(airport,':',num)"
   ]
  },
  {
   "cell_type": "code",
   "execution_count": 14,
   "id": "fitting-binding",
   "metadata": {},
   "outputs": [],
   "source": [
    "spark_context.stop()"
   ]
  },
  {
   "cell_type": "markdown",
   "id": "adjacent-microphone",
   "metadata": {},
   "source": [
    "# DataFrame"
   ]
  },
  {
   "cell_type": "code",
   "execution_count": 15,
   "id": "obvious-pledge",
   "metadata": {},
   "outputs": [],
   "source": [
    "from pyspark.sql import SparkSession, functions\n",
    "from pyspark.sql.functions import explode, col"
   ]
  },
  {
   "cell_type": "code",
   "execution_count": 16,
   "id": "under-proposal",
   "metadata": {},
   "outputs": [],
   "source": [
    "spark_session = SparkSession \\\n",
    "        .builder \\\n",
    "        .master(\"local[4]\") \\\n",
    "        .getOrCreate()"
   ]
  },
  {
   "cell_type": "code",
   "execution_count": 17,
   "id": "virtual-collaboration",
   "metadata": {},
   "outputs": [],
   "source": [
    "logger = spark_session._jvm.org.apache.log4j\n",
    "logger.LogManager.getLogger(\"org\").setLevel(logger.Level.WARN)"
   ]
  },
  {
   "cell_type": "code",
   "execution_count": 18,
   "id": "celtic-island",
   "metadata": {},
   "outputs": [],
   "source": [
    "dfA = spark_session \\\n",
    "        .read \\\n",
    "        .options(header='true', inferschema='true') \\\n",
    "        .option(\"delimiter\", \",\") \\\n",
    "        .csv(rutaA) \\\n",
    "        .persist()"
   ]
  },
  {
   "cell_type": "code",
   "execution_count": 19,
   "id": "ready-sheffield",
   "metadata": {},
   "outputs": [],
   "source": [
    "dfP = spark_session \\\n",
    "        .read \\\n",
    "        .options(header='true', inferschema='true') \\\n",
    "        .option(\"delimiter\", \",\") \\\n",
    "        .csv(rutaP) \\\n",
    "        .persist()"
   ]
  },
  {
   "cell_type": "markdown",
   "id": "hidden-aerospace",
   "metadata": {},
   "source": [
    "As in both dataframe there is a column with the same name ('name') I will change that name."
   ]
  },
  {
   "cell_type": "code",
   "execution_count": 20,
   "id": "least-miracle",
   "metadata": {},
   "outputs": [],
   "source": [
    "dfA=dfA.withColumnRenamed(\"name\",\"Airport name\")"
   ]
  },
  {
   "cell_type": "code",
   "execution_count": 21,
   "id": "needed-worry",
   "metadata": {},
   "outputs": [],
   "source": [
    "dfP=dfP.withColumnRenamed(\"name\",\"Country name\")"
   ]
  },
  {
   "cell_type": "code",
   "execution_count": 22,
   "id": "different-injury",
   "metadata": {},
   "outputs": [
    {
     "name": "stdout",
     "output_type": "stream",
     "text": [
      "root\n",
      " |-- id: integer (nullable = true)\n",
      " |-- ident: string (nullable = true)\n",
      " |-- type: string (nullable = true)\n",
      " |-- Airport name: string (nullable = true)\n",
      " |-- latitude_deg: double (nullable = true)\n",
      " |-- longitude_deg: double (nullable = true)\n",
      " |-- elevation_ft: integer (nullable = true)\n",
      " |-- continent: string (nullable = true)\n",
      " |-- iso_country: string (nullable = true)\n",
      " |-- iso_region: string (nullable = true)\n",
      " |-- municipality: string (nullable = true)\n",
      " |-- scheduled_service: string (nullable = true)\n",
      " |-- gps_code: string (nullable = true)\n",
      " |-- iata_code: string (nullable = true)\n",
      " |-- local_code: string (nullable = true)\n",
      " |-- home_link: string (nullable = true)\n",
      " |-- wikipedia_link: string (nullable = true)\n",
      " |-- keywords: string (nullable = true)\n",
      "\n"
     ]
    }
   ],
   "source": [
    "dfA.printSchema()"
   ]
  },
  {
   "cell_type": "code",
   "execution_count": 23,
   "id": "handled-oriental",
   "metadata": {},
   "outputs": [
    {
     "name": "stdout",
     "output_type": "stream",
     "text": [
      "+------+-----+-------------+--------------------+------------------+-------------------+------------+---------+-----------+----------+------------+-----------------+--------+---------+----------+---------+--------------+--------+\n",
      "|    id|ident|         type|        Airport name|      latitude_deg|      longitude_deg|elevation_ft|continent|iso_country|iso_region|municipality|scheduled_service|gps_code|iata_code|local_code|home_link|wikipedia_link|keywords|\n",
      "+------+-----+-------------+--------------------+------------------+-------------------+------------+---------+-----------+----------+------------+-----------------+--------+---------+----------+---------+--------------+--------+\n",
      "|  6523|  00A|     heliport|   Total Rf Heliport|    40.07080078125| -74.93360137939453|          11|       NA|         US|     US-PA|    Bensalem|               no|     00A|     null|       00A|     null|          null|    null|\n",
      "|323361| 00AA|small_airport|Aero B Ranch Airport|         38.704022|        -101.473911|        3435|       NA|         US|     US-KS|       Leoti|               no|    00AA|     null|      00AA|     null|          null|    null|\n",
      "|  6524| 00AK|small_airport|        Lowell Field|       59.94919968|     -151.695999146|         450|       NA|         US|     US-AK|Anchor Point|               no|    00AK|     null|      00AK|     null|          null|    null|\n",
      "|  6525| 00AL|small_airport|        Epps Airpark| 34.86479949951172| -86.77030181884766|         820|       NA|         US|     US-AL|     Harvest|               no|    00AL|     null|      00AL|     null|          null|    null|\n",
      "|  6526| 00AR|       closed|Newport Hospital ...|           35.6087|         -91.254898|         237|       NA|         US|     US-AR|     Newport|               no|    null|     null|      null|     null|          null|    00AR|\n",
      "|322127| 00AS|small_airport|      Fulton Airport|        34.9428028|        -97.8180194|        1100|       NA|         US|     US-OK|        Alex|               no|    00AS|     null|      00AS|     null|          null|    null|\n",
      "|  6527| 00AZ|small_airport|      Cordes Airport|34.305599212646484|-112.16500091552734|        3810|       NA|         US|     US-AZ|      Cordes|               no|    00AZ|     null|      00AZ|     null|          null|    null|\n",
      "|  6528| 00CA|small_airport|Goldstone /Gts/ A...|35.350498199499995|     -116.888000488|        3038|       NA|         US|     US-CA|     Barstow|               no|    00CA|     null|      00CA|     null|          null|    null|\n",
      "|324424| 00CL|small_airport| Williams Ag Airport|         39.427188|        -121.763427|          87|       NA|         US|     US-CA|       Biggs|               no|    00CL|     null|      00CL|     null|          null|    null|\n",
      "|322658| 00CN|     heliport|Kitchen Creek Hel...|        32.7273736|       -116.4597417|        3350|       NA|         US|     US-CA| Pine Valley|               no|    00CN|     null|      00CN|     null|          null|    null|\n",
      "|  6529| 00CO|       closed|          Cass Field|         40.622202|        -104.344002|        4830|       NA|         US|     US-CO|  Briggsdale|               no|    null|     null|      null|     null|          null|    00CO|\n",
      "|  6531| 00FA|small_airport| Grass Patch Airport| 28.64550018310547| -82.21900177001953|          53|       NA|         US|     US-FL|    Bushnell|               no|    00FA|     null|      00FA|     null|          null|    null|\n",
      "|  6532| 00FD|     heliport|  Ringhaver Heliport|28.846599578857422| -82.34539794921875|          25|       NA|         US|     US-FL|   Riverview|               no|    00FD|     null|      00FD|     null|          null|    null|\n",
      "|  6533| 00FL|small_airport|   River Oak Airport|27.230899810791016| -80.96920013427734|          35|       NA|         US|     US-FL|  Okeechobee|               no|    00FL|     null|      00FL|     null|          null|    null|\n",
      "|  6534| 00GA|small_airport|    Lt World Airport| 33.76750183105469| -84.06829833984375|         700|       NA|         US|     US-GA|    Lithonia|               no|    00GA|     null|      00GA|     null|          null|    null|\n",
      "|  6535| 00GE|     heliport|    Caffrey Heliport|         33.889245|          -84.73793|         957|       NA|         US|     US-GA|       Hiram|               no|    00GE|     null|      00GE|     null|          null|    null|\n",
      "|  6536| 00HI|     heliport|  Kaupulehu Heliport|         19.832715|        -155.980233|          43|       NA|         US|     US-HI| Kailua-Kona|               no|    00HI|     null|      00HI|     null|          null|    null|\n",
      "|  6537| 00ID|small_airport|Delta Shores Airport|48.145301818847656|-116.21399688720703|        2064|       NA|         US|     US-ID|  Clark Fork|               no|    00ID|     null|      00ID|     null|          null|    null|\n",
      "|322581| 00IG|small_airport|       Goltl Airport|         39.724028|        -101.395994|        3359|       NA|         US|     US-KS|    McDonald|               no|    00IG|     null|      00IG|     null|          null|    null|\n",
      "|  6538| 00II|       closed|Bailey Generation...|         41.644501|         -87.122803|         600|       NA|         US|     US-IN|  Chesterton|               no|    null|     null|      null|     null|          null|    00II|\n",
      "+------+-----+-------------+--------------------+------------------+-------------------+------------+---------+-----------+----------+------------+-----------------+--------+---------+----------+---------+--------------+--------+\n",
      "only showing top 20 rows\n",
      "\n"
     ]
    }
   ],
   "source": [
    "dfA.show()"
   ]
  },
  {
   "cell_type": "code",
   "execution_count": 24,
   "id": "broken-healing",
   "metadata": {},
   "outputs": [
    {
     "data": {
      "text/plain": [
       "['id',\n",
       " 'ident',\n",
       " 'type',\n",
       " 'Airport name',\n",
       " 'latitude_deg',\n",
       " 'longitude_deg',\n",
       " 'elevation_ft',\n",
       " 'continent',\n",
       " 'iso_country',\n",
       " 'iso_region',\n",
       " 'municipality',\n",
       " 'scheduled_service',\n",
       " 'gps_code',\n",
       " 'iata_code',\n",
       " 'local_code',\n",
       " 'home_link',\n",
       " 'wikipedia_link',\n",
       " 'keywords']"
      ]
     },
     "execution_count": 24,
     "metadata": {},
     "output_type": "execute_result"
    }
   ],
   "source": [
    "dfA.schema.names"
   ]
  },
  {
   "cell_type": "code",
   "execution_count": 25,
   "id": "mental-stamp",
   "metadata": {},
   "outputs": [
    {
     "name": "stdout",
     "output_type": "stream",
     "text": [
      "root\n",
      " |-- id: integer (nullable = true)\n",
      " |-- code: string (nullable = true)\n",
      " |-- Country name: string (nullable = true)\n",
      " |-- continent: string (nullable = true)\n",
      " |-- wikipedia_link: string (nullable = true)\n",
      " |-- keywords: string (nullable = true)\n",
      "\n"
     ]
    }
   ],
   "source": [
    "dfP.printSchema()"
   ]
  },
  {
   "cell_type": "code",
   "execution_count": 26,
   "id": "accurate-chest",
   "metadata": {},
   "outputs": [
    {
     "name": "stdout",
     "output_type": "stream",
     "text": [
      "+------+----+--------------------+---------+--------------------+--------------------+\n",
      "|    id|code|        Country name|continent|      wikipedia_link|            keywords|\n",
      "+------+----+--------------------+---------+--------------------+--------------------+\n",
      "|302672|  AD|             Andorra|       EU|https://en.wikipe...|                null|\n",
      "|302618|  AE|United Arab Emirates|       AS|https://en.wikipe...|UAE,مطارات في الإ...|\n",
      "|302619|  AF|         Afghanistan|       AS|https://en.wikipe...|                null|\n",
      "|302722|  AG| Antigua and Barbuda|       NA|https://en.wikipe...|                null|\n",
      "|302723|  AI|            Anguilla|       NA|https://en.wikipe...|                null|\n",
      "|302673|  AL|             Albania|       EU|https://en.wikipe...|                null|\n",
      "|302620|  AM|             Armenia|       AS|https://en.wikipe...|                null|\n",
      "|302556|  AO|              Angola|       AF|https://en.wikipe...|                null|\n",
      "|302615|  AQ|          Antarctica|       AN|https://en.wikipe...|                null|\n",
      "|302789|  AR|           Argentina|       SA|https://en.wikipe...|Aeropuertos de Ar...|\n",
      "|302763|  AS|      American Samoa|       OC|https://en.wikipe...|                null|\n",
      "|302674|  AT|             Austria|       EU|https://en.wikipe...|Flughäfen in Öste...|\n",
      "|302764|  AU|           Australia|       OC|https://en.wikipe...|                null|\n",
      "|302725|  AW|               Aruba|       NA|https://en.wikipe...|                null|\n",
      "|302621|  AZ|          Azerbaijan|       AS|https://en.wikipe...|                null|\n",
      "|302675|  BA|Bosnia and Herzeg...|       EU|https://en.wikipe...|                null|\n",
      "|302726|  BB|            Barbados|       NA|https://en.wikipe...|                null|\n",
      "|302622|  BD|          Bangladesh|       AS|https://en.wikipe...|                null|\n",
      "|302676|  BE|             Belgium|       EU|https://en.wikipe...|Aéroports de Belg...|\n",
      "|302557|  BF|        Burkina Faso|       AF|https://en.wikipe...|                null|\n",
      "+------+----+--------------------+---------+--------------------+--------------------+\n",
      "only showing top 20 rows\n",
      "\n"
     ]
    }
   ],
   "source": [
    "dfP.show()"
   ]
  },
  {
   "cell_type": "code",
   "execution_count": 27,
   "id": "experimental-sunrise",
   "metadata": {},
   "outputs": [
    {
     "data": {
      "text/plain": [
       "['id', 'code', 'Country name', 'continent', 'wikipedia_link', 'keywords']"
      ]
     },
     "execution_count": 27,
     "metadata": {},
     "output_type": "execute_result"
    }
   ],
   "source": [
    "dfP.schema.names"
   ]
  },
  {
   "cell_type": "code",
   "execution_count": 28,
   "id": "thousand-blake",
   "metadata": {},
   "outputs": [],
   "source": [
    "union = dfA.join(dfP,dfA[\"iso_country\"]==dfP[\"code\"])"
   ]
  },
  {
   "cell_type": "code",
   "execution_count": 29,
   "id": "frank-livestock",
   "metadata": {},
   "outputs": [
    {
     "name": "stdout",
     "output_type": "stream",
     "text": [
      "root\n",
      " |-- id: integer (nullable = true)\n",
      " |-- ident: string (nullable = true)\n",
      " |-- type: string (nullable = true)\n",
      " |-- Airport name: string (nullable = true)\n",
      " |-- latitude_deg: double (nullable = true)\n",
      " |-- longitude_deg: double (nullable = true)\n",
      " |-- elevation_ft: integer (nullable = true)\n",
      " |-- continent: string (nullable = true)\n",
      " |-- iso_country: string (nullable = true)\n",
      " |-- iso_region: string (nullable = true)\n",
      " |-- municipality: string (nullable = true)\n",
      " |-- scheduled_service: string (nullable = true)\n",
      " |-- gps_code: string (nullable = true)\n",
      " |-- iata_code: string (nullable = true)\n",
      " |-- local_code: string (nullable = true)\n",
      " |-- home_link: string (nullable = true)\n",
      " |-- wikipedia_link: string (nullable = true)\n",
      " |-- keywords: string (nullable = true)\n",
      " |-- id: integer (nullable = true)\n",
      " |-- code: string (nullable = true)\n",
      " |-- Country name: string (nullable = true)\n",
      " |-- continent: string (nullable = true)\n",
      " |-- wikipedia_link: string (nullable = true)\n",
      " |-- keywords: string (nullable = true)\n",
      "\n"
     ]
    }
   ],
   "source": [
    "union.printSchema()"
   ]
  },
  {
   "cell_type": "markdown",
   "id": "balanced-cycling",
   "metadata": {},
   "source": [
    "Now i will drop all the columns that are not interesting."
   ]
  },
  {
   "cell_type": "code",
   "execution_count": 30,
   "id": "explicit-description",
   "metadata": {},
   "outputs": [],
   "source": [
    "union=union.drop(\"id\")\\\n",
    "        .drop(\"ident\")\\\n",
    "        .drop(\"latitude_deg\")\\\n",
    "        .drop(\"longitude_deg\")\\\n",
    "        .drop(\"elevation_ft\")\\\n",
    "        .drop(\"continent\")\\\n",
    "        .drop(\"municipality\")\\\n",
    "        .drop(\"scheduled_service\")\\\n",
    "        .drop(\"iata_code\")\\\n",
    "        .drop(\"gps_code\")\\\n",
    "        .drop(\"local_code\")\\\n",
    "        .drop(\"home_link\")\\\n",
    "        .drop(\"wikipedia_link\")\\\n",
    "        .drop(\"keywords\")\\\n",
    "        .drop(\"code\")\\\n",
    "        .drop(\"iso_region\")"
   ]
  },
  {
   "cell_type": "code",
   "execution_count": 31,
   "id": "hungarian-spencer",
   "metadata": {},
   "outputs": [
    {
     "name": "stdout",
     "output_type": "stream",
     "text": [
      "root\n",
      " |-- type: string (nullable = true)\n",
      " |-- Airport name: string (nullable = true)\n",
      " |-- iso_country: string (nullable = true)\n",
      " |-- Country name: string (nullable = true)\n",
      "\n"
     ]
    }
   ],
   "source": [
    "union.printSchema()"
   ]
  },
  {
   "cell_type": "code",
   "execution_count": 32,
   "id": "multiple-lambda",
   "metadata": {},
   "outputs": [
    {
     "name": "stdout",
     "output_type": "stream",
     "text": [
      "+-------------+--------------------+-----------+-------------+\n",
      "|         type|        Airport name|iso_country| Country name|\n",
      "+-------------+--------------------+-----------+-------------+\n",
      "|     heliport|   Total Rf Heliport|         US|United States|\n",
      "|small_airport|Aero B Ranch Airport|         US|United States|\n",
      "|small_airport|        Lowell Field|         US|United States|\n",
      "|small_airport|        Epps Airpark|         US|United States|\n",
      "|       closed|Newport Hospital ...|         US|United States|\n",
      "|small_airport|      Fulton Airport|         US|United States|\n",
      "|small_airport|      Cordes Airport|         US|United States|\n",
      "|small_airport|Goldstone /Gts/ A...|         US|United States|\n",
      "|small_airport| Williams Ag Airport|         US|United States|\n",
      "|     heliport|Kitchen Creek Hel...|         US|United States|\n",
      "|       closed|          Cass Field|         US|United States|\n",
      "|small_airport| Grass Patch Airport|         US|United States|\n",
      "|     heliport|  Ringhaver Heliport|         US|United States|\n",
      "|small_airport|   River Oak Airport|         US|United States|\n",
      "|small_airport|    Lt World Airport|         US|United States|\n",
      "|     heliport|    Caffrey Heliport|         US|United States|\n",
      "|     heliport|  Kaupulehu Heliport|         US|United States|\n",
      "|small_airport|Delta Shores Airport|         US|United States|\n",
      "|small_airport|       Goltl Airport|         US|United States|\n",
      "|       closed|Bailey Generation...|         US|United States|\n",
      "+-------------+--------------------+-----------+-------------+\n",
      "only showing top 20 rows\n",
      "\n"
     ]
    }
   ],
   "source": [
    "union.show()"
   ]
  },
  {
   "cell_type": "code",
   "execution_count": 33,
   "id": "democratic-course",
   "metadata": {},
   "outputs": [
    {
     "name": "stdout",
     "output_type": "stream",
     "text": [
      "+--------------+-----+\n",
      "|  Country name|count|\n",
      "+--------------+-----+\n",
      "| United States|  170|\n",
      "|         China|   35|\n",
      "|United Kingdom|   27|\n",
      "|        Russia|   21|\n",
      "|         Italy|   17|\n",
      "|       Germany|   16|\n",
      "|        Turkey|   13|\n",
      "|         Japan|   13|\n",
      "|         India|   11|\n",
      "|        Brazil|   11|\n",
      "+--------------+-----+\n",
      "\n"
     ]
    }
   ],
   "source": [
    "union\\\n",
    "        .select(\"Country name\",\"type\")\\\n",
    "        .where(col(\"type\")==\"large_airport\")\\\n",
    "        .groupBy(\"Country name\")\\\n",
    "        .count()\\\n",
    "        .sort(\"count\",ascending=False)\\\n",
    "        .where(col(\"count\")>10)\\\n",
    "        .show()"
   ]
  }
 ],
 "metadata": {
  "kernelspec": {
   "display_name": "Python 3",
   "language": "python",
   "name": "python3"
  },
  "language_info": {
   "codemirror_mode": {
    "name": "ipython",
    "version": 3
   },
   "file_extension": ".py",
   "mimetype": "text/x-python",
   "name": "python",
   "nbconvert_exporter": "python",
   "pygments_lexer": "ipython3",
   "version": "3.9.2"
  }
 },
 "nbformat": 4,
 "nbformat_minor": 5
}
