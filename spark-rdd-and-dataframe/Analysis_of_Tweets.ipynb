{
 "cells": [
  {
   "cell_type": "markdown",
   "id": "express-platform",
   "metadata": {},
   "source": [
    "# Module 9. Scalable Data Processing"
   ]
  },
  {
   "cell_type": "markdown",
   "id": "communist-influence",
   "metadata": {},
   "source": [
    "## Mandatory task 5. Analysis of tweets."
   ]
  },
  {
   "cell_type": "markdown",
   "id": "capable-isolation",
   "metadata": {},
   "source": [
    "### Pablo Yañez Martin"
   ]
  },
  {
   "cell_type": "markdown",
   "id": "afraid-gallery",
   "metadata": {},
   "source": [
    "# RDD"
   ]
  },
  {
   "cell_type": "code",
   "execution_count": 1,
   "id": "fatal-values",
   "metadata": {},
   "outputs": [],
   "source": [
    "from pyspark import SparkConf, SparkContext"
   ]
  },
  {
   "cell_type": "code",
   "execution_count": 2,
   "id": "architectural-benchmark",
   "metadata": {},
   "outputs": [],
   "source": [
    "ruta = \"D:/Dropbox/Pablo/Master/Modulo 9. Scalable Data Processing/Java/Data/tweets.tsv\""
   ]
  },
  {
   "cell_type": "code",
   "execution_count": 3,
   "id": "alike-baking",
   "metadata": {},
   "outputs": [],
   "source": [
    "spark_conf = SparkConf().setAppName(\"Tweets_RDD\").setMaster(\"local[2]\")\n",
    "spark_context = SparkContext(conf=spark_conf)"
   ]
  },
  {
   "cell_type": "code",
   "execution_count": 4,
   "id": "solid-pathology",
   "metadata": {},
   "outputs": [],
   "source": [
    "logger = spark_context._jvm.org.apache.log4j\n",
    "logger.LogManager.getLogger(\"org\").setLevel(logger.Level.WARN)"
   ]
  },
  {
   "cell_type": "code",
   "execution_count": 5,
   "id": "perceived-margin",
   "metadata": {},
   "outputs": [],
   "source": [
    "lectura = spark_context.textFile(ruta)"
   ]
  },
  {
   "cell_type": "code",
   "execution_count": 6,
   "id": "extended-acting",
   "metadata": {},
   "outputs": [],
   "source": [
    "columnas=lectura.map(lambda line: line.split('\\t'))"
   ]
  },
  {
   "cell_type": "markdown",
   "id": "answering-spank",
   "metadata": {},
   "source": [
    "#### 1. The 10 most repeated words in all the tweets."
   ]
  },
  {
   "cell_type": "code",
   "execution_count": 7,
   "id": "precious-population",
   "metadata": {},
   "outputs": [],
   "source": [
    "lista=('RT','http://t.co/t3KHlNvtIz','#Big12MBB :','will','and','#Big12MBB','#Big12MBB:','#Big12','set', 'Big12Conference:','the','The','of','a','in','to','at','with','-','for','on')"
   ]
  },
  {
   "cell_type": "code",
   "execution_count": 8,
   "id": "unique-sleeping",
   "metadata": {},
   "outputs": [],
   "source": [
    "resultado1=columnas\\\n",
    "    .map(lambda array : array[2])\\\n",
    "    .flatMap(lambda tuit : tuit.split(' '))\\\n",
    "    .filter(lambda word : word not in lista)\\\n",
    "    .map(lambda word : (word,1))\\\n",
    "    .reduceByKey(lambda a, b: a + b)\\\n",
    "    .sortBy(lambda par : par[1],ascending=False)\\\n",
    "    .take(10)"
   ]
  },
  {
   "cell_type": "code",
   "execution_count": 9,
   "id": "fabulous-monitor",
   "metadata": {},
   "outputs": [
    {
     "name": "stdout",
     "output_type": "stream",
     "text": [
      "The most repeated words are: \n",
      "Big12Conference : 191\n",
      "Championship : 134\n",
      "quarterfinal : 127\n",
      "Thursday's : 125\n",
      "BaylorMBB : 124\n",
      "bracket : 117\n",
      "updated : 117\n",
      "matchups : 117\n",
      "TCUBasketball : 109\n",
      "tomorrow : 97\n"
     ]
    }
   ],
   "source": [
    "print('The most repeated words are: ')\n",
    "for (word,frequency) in resultado1:\n",
    "    print(str(word) +' : '+str(frequency))"
   ]
  },
  {
   "cell_type": "markdown",
   "id": "transsexual-loading",
   "metadata": {},
   "source": [
    "#### 2.  The user who has written mosts tweets."
   ]
  },
  {
   "cell_type": "code",
   "execution_count": 10,
   "id": "satisfactory-briefing",
   "metadata": {},
   "outputs": [],
   "source": [
    "resultado2=columnas\\\n",
    "    .map(lambda array : (array[1],1))\\\n",
    "    .reduceByKey(lambda a, b: a + b)\\\n",
    "    .sortBy(lambda par : par[1],ascending=False)\\\n",
    "    .take(1)"
   ]
  },
  {
   "cell_type": "code",
   "execution_count": 11,
   "id": "tropical-combination",
   "metadata": {},
   "outputs": [
    {
     "name": "stdout",
     "output_type": "stream",
     "text": [
      "The user who has written more tweets is:\n",
      "@Big12Conference : 143\n"
     ]
    }
   ],
   "source": [
    "print('The user who has written more tweets is:')\n",
    "for (user,freq) in resultado2:\n",
    "    print(user+' : '+str(freq))"
   ]
  },
  {
   "cell_type": "markdown",
   "id": "crucial-accused",
   "metadata": {},
   "source": [
    "#### 3. The user who has written the shortest tweet and it length."
   ]
  },
  {
   "cell_type": "code",
   "execution_count": 12,
   "id": "fossil-footwear",
   "metadata": {},
   "outputs": [],
   "source": [
    "resultado3=columnas\\\n",
    "    .map(lambda array : (array[1],array[2],array[3]))\\\n",
    "    .map(lambda array : (array[0],len(array[1]),array[2]))\\\n",
    "    .sortBy(lambda par : par[1],ascending=True)\\\n",
    "    .take(1)"
   ]
  },
  {
   "cell_type": "code",
   "execution_count": 13,
   "id": "respiratory-template",
   "metadata": {},
   "outputs": [
    {
     "name": "stdout",
     "output_type": "stream",
     "text": [
      "The shortest tweet has written by:\n",
      "User: @kSECKA33 - Tweet lenght: 21 - Time and date of the tweet: Thu Mar 13 06:16:18 CET 2014\n"
     ]
    }
   ],
   "source": [
    "print('The shortest tweet has written by:')\n",
    "for (user,len_tuit,time) in resultado3:\n",
    "    print('User: '+user +' - Tweet lenght: '+str(len_tuit)+' - Time and date of the tweet: '+time)"
   ]
  },
  {
   "cell_type": "code",
   "execution_count": 14,
   "id": "seeing-plumbing",
   "metadata": {},
   "outputs": [],
   "source": [
    "spark_context.stop()"
   ]
  },
  {
   "cell_type": "markdown",
   "id": "lyric-kernel",
   "metadata": {},
   "source": [
    "# DataFrame"
   ]
  },
  {
   "cell_type": "code",
   "execution_count": 15,
   "id": "awful-great",
   "metadata": {},
   "outputs": [],
   "source": [
    "from pyspark.sql import SparkSession, functions\n",
    "from pyspark.sql.functions import explode, col"
   ]
  },
  {
   "cell_type": "code",
   "execution_count": 16,
   "id": "former-interface",
   "metadata": {},
   "outputs": [],
   "source": [
    "spark_session = SparkSession \\\n",
    "        .builder \\\n",
    "        .master(\"local[4]\") \\\n",
    "        .getOrCreate()"
   ]
  },
  {
   "cell_type": "code",
   "execution_count": 17,
   "id": "potential-toyota",
   "metadata": {},
   "outputs": [],
   "source": [
    "logger = spark_session._jvm.org.apache.log4j\n",
    "logger.LogManager.getLogger(\"org\").setLevel(logger.Level.WARN)"
   ]
  },
  {
   "cell_type": "code",
   "execution_count": 18,
   "id": "anticipated-waste",
   "metadata": {},
   "outputs": [],
   "source": [
    "data_frame = spark_session \\\n",
    "        .read \\\n",
    "        .options(header='false', inferschema='true') \\\n",
    "        .option(\"delimiter\", \"\\t\") \\\n",
    "        .csv(\"D:/Dropbox/Pablo/Master/Modulo 9. Scalable Data Processing/Java/Data/tweets.tsv\") \\\n",
    "        .persist()"
   ]
  },
  {
   "cell_type": "code",
   "execution_count": 19,
   "id": "married-antique",
   "metadata": {},
   "outputs": [
    {
     "name": "stdout",
     "output_type": "stream",
     "text": [
      "root\n",
      " |-- _c0: long (nullable = true)\n",
      " |-- _c1: string (nullable = true)\n",
      " |-- _c2: string (nullable = true)\n",
      " |-- _c3: string (nullable = true)\n",
      " |-- _c4: string (nullable = true)\n",
      " |-- _c5: string (nullable = true)\n",
      " |-- _c6: string (nullable = true)\n",
      "\n"
     ]
    }
   ],
   "source": [
    "data_frame.printSchema()"
   ]
  },
  {
   "cell_type": "code",
   "execution_count": 20,
   "id": "practical-target",
   "metadata": {},
   "outputs": [
    {
     "name": "stdout",
     "output_type": "stream",
     "text": [
      "+------------------+----------------+--------------------+--------------------+---+---+--------------------+\n",
      "|               _c0|             _c1|                 _c2|                 _c3|_c4|_c5|                 _c6|\n",
      "+------------------+----------------+--------------------+--------------------+---+---+--------------------+\n",
      "|444004634718261248|       @chief800|RT Big12Conferenc...|Thu Mar 13 07:58:...|   |   |Kansas City Metro...|\n",
      "|443996287617081345|     @VRamirezTX|RT Big12Conferenc...|Thu Mar 13 07:25:...|   |   |               Austi|\n",
      "|443993517896261633|@Big12Conference|#Big12Insider Wen...|Thu Mar 13 07:14:...|   |   |                null|\n",
      "|443990634773229569|      @OhYouGirl|RT Big12Conferenc...|Thu Mar 13 07:03:...|   |   |    OOOOOOOOOklahoma|\n",
      "|443982530169942016|         @ROK_NB|Great first day o...|Thu Mar 13 06:30:...|   |   |                 DFW|\n",
      "|443980991082688512|       @barrin_l|Iowa State begins...|Thu Mar 13 06:24:...|   |   |                null|\n",
      "|443976199887282176|      @twtkansas|RT Big12Conferenc...|Thu Mar 13 06:05:...|   |   |                null|\n",
      "|443976074188181505|   @CoachMudloff|RT Big12Conferenc...|Thu Mar 13 06:05:...|   |   |                null|\n",
      "|443975339962671104|   @ivan_cabezas|RT Big12Conferenc...|Thu Mar 13 06:02:...|   |   |         Kansas City|\n",
      "|443975077491904512|        @OHHHtis|Gonna be glued to...|Thu Mar 13 06:01:...|   |   |        ?T: 44.77479|\n",
      "|443973341691392001|    @kristinkorn|RT Big12Conferenc...|Thu Mar 13 05:54:...|   |   |          Springfiel|\n",
      "|443972665557016576|    @athurman223|RT Big12Conferenc...|Thu Mar 13 05:51:...|   |   |           Stillwate|\n",
      "|443972553745235968|  @candainham123|Big12Conference W...|Thu Mar 13 05:51:...|   |   |              Lansin|\n",
      "|443971729690341377|     @DFlores122|RT Big12Conferenc...|Thu Mar 13 05:48:...|   |   |                null|\n",
      "|443969986550173696| @GabbyGlenister|RT Big12Conferenc...|Thu Mar 13 05:41:...|   |   |                null|\n",
      "|443969431014612992|  @LaceyDSanders|RT Big12Conferenc...|Thu Mar 13 05:38:...|   |   |                null|\n",
      "|443969283144445952|  @chaycethenoun|RT Big12Conferenc...|Thu Mar 13 05:38:...|   |   |          Denver-ish|\n",
      "|443968855317024768|         @Mf44bb|Yep me and Beav a...|Thu Mar 13 05:36:...|   |   |              Shawne|\n",
      "|443968225982697473|        @Eric21A|RT Big12Conferenc...|Thu Mar 13 05:34:...|   |   |               Austi|\n",
      "|443967964920823808|       @benign12|RT Big12Conferenc...|Thu Mar 13 05:33:...|   |   |                null|\n",
      "+------------------+----------------+--------------------+--------------------+---+---+--------------------+\n",
      "only showing top 20 rows\n",
      "\n"
     ]
    }
   ],
   "source": [
    "data_frame.show()"
   ]
  },
  {
   "cell_type": "markdown",
   "id": "cognitive-backup",
   "metadata": {},
   "source": [
    "#### 1. The 10 most repeated words in all the tweets."
   ]
  },
  {
   "cell_type": "code",
   "execution_count": 21,
   "id": "recognized-efficiency",
   "metadata": {},
   "outputs": [],
   "source": [
    "lista=['RT','http://t.co/t3KHlNvtIz', 'Big12Conference:','I','#Big12','#Big12MBB:','#Big12MBB',' ','set','the','and','will','is','has','The','of','a','in','to','at','with','-','for','on']"
   ]
  },
  {
   "cell_type": "code",
   "execution_count": 22,
   "id": "cardiovascular-chart",
   "metadata": {},
   "outputs": [
    {
     "data": {
      "text/plain": [
       "['_c0', '_c1', '_c2', '_c3', '_c4', '_c5', '_c6']"
      ]
     },
     "execution_count": 22,
     "metadata": {},
     "output_type": "execute_result"
    }
   ],
   "source": [
    "data_frame.schema.names"
   ]
  },
  {
   "cell_type": "code",
   "execution_count": 23,
   "id": "built-buying",
   "metadata": {},
   "outputs": [],
   "source": [
    "data_frame_2 = data_frame \\\n",
    "        .select(explode(functions.split(\"_c2\",' ')))\\\n",
    "        .withColumnRenamed(\"col\",\"words\")"
   ]
  },
  {
   "cell_type": "code",
   "execution_count": 24,
   "id": "complimentary-impact",
   "metadata": {},
   "outputs": [
    {
     "name": "stdout",
     "output_type": "stream",
     "text": [
      "+---------------+-----+\n",
      "|          words|count|\n",
      "+---------------+-----+\n",
      "|Big12Conference|  191|\n",
      "|   Championship|  134|\n",
      "|   quarterfinal|  127|\n",
      "|     Thursday's|  125|\n",
      "|      BaylorMBB|  124|\n",
      "|        bracket|  117|\n",
      "|        updated|  117|\n",
      "|       matchups|  117|\n",
      "|  TCUBasketball|  109|\n",
      "|       tomorrow|   97|\n",
      "+---------------+-----+\n",
      "only showing top 10 rows\n",
      "\n"
     ]
    }
   ],
   "source": [
    "data_frame_2\\\n",
    "        .filter(~col(\"words\").isin(lista))\\\n",
    "        .groupBy(\"words\")\\\n",
    "        .count()\\\n",
    "        .sort(\"count\",ascending=False)\\\n",
    "        .show(10)"
   ]
  },
  {
   "cell_type": "markdown",
   "id": "superior-winter",
   "metadata": {},
   "source": [
    "#### 2.  The user who has written mosts tweets."
   ]
  },
  {
   "cell_type": "code",
   "execution_count": 25,
   "id": "looking-sheet",
   "metadata": {},
   "outputs": [
    {
     "name": "stdout",
     "output_type": "stream",
     "text": [
      "+----------------+-----+\n",
      "|            User|count|\n",
      "+----------------+-----+\n",
      "|@Big12Conference|  143|\n",
      "+----------------+-----+\n",
      "only showing top 1 row\n",
      "\n"
     ]
    }
   ],
   "source": [
    "data_frame\\\n",
    "        .select(col(\"_c1\"))\\\n",
    "        .groupBy(\"_c1\")\\\n",
    "        .count()\\\n",
    "        .sort(\"count\",ascending=False)\\\n",
    "        .withColumnRenamed(\"_c1\",\"User\")\\\n",
    "        .show(1)"
   ]
  },
  {
   "cell_type": "markdown",
   "id": "breeding-encyclopedia",
   "metadata": {},
   "source": [
    "#### 3. The user who has written the shortest tweet and it length."
   ]
  },
  {
   "cell_type": "code",
   "execution_count": 26,
   "id": "religious-characterization",
   "metadata": {},
   "outputs": [],
   "source": [
    "data_frame_3=data_frame\\\n",
    "        .select(\"_c1\",\"_c2\",\"_c3\")\\\n",
    "        .withColumnRenamed(\"_c1\",\"User\")\\\n",
    "        .withColumnRenamed(\"_c2\",\"Tweet length\")\\\n",
    "        .withColumnRenamed(\"_c3\",\"Date and time\")"
   ]
  },
  {
   "cell_type": "code",
   "execution_count": 27,
   "id": "prerequisite-chassis",
   "metadata": {},
   "outputs": [
    {
     "name": "stdout",
     "output_type": "stream",
     "text": [
      "+---------+------------+--------------------+\n",
      "|     User|Tweet length|       Date and time|\n",
      "+---------+------------+--------------------+\n",
      "|@kSECKA33|          21|Thu Mar 13 06:16:...|\n",
      "+---------+------------+--------------------+\n",
      "only showing top 1 row\n",
      "\n"
     ]
    }
   ],
   "source": [
    "data_frame_3\\\n",
    "        .select(col(\"User\"),functions.length(col(\"Tweet length\")),col('Date and time'))\\\n",
    "        .withColumnRenamed(\"length(Tweet length)\",\"Tweet length\")\\\n",
    "        .sort(\"Tweet length\",ascending=True)\\\n",
    "        .show(1)"
   ]
  }
 ],
 "metadata": {
  "kernelspec": {
   "display_name": "Python 3",
   "language": "python",
   "name": "python3"
  },
  "language_info": {
   "codemirror_mode": {
    "name": "ipython",
    "version": 3
   },
   "file_extension": ".py",
   "mimetype": "text/x-python",
   "name": "python",
   "nbconvert_exporter": "python",
   "pygments_lexer": "ipython3",
   "version": "3.9.2"
  }
 },
 "nbformat": 4,
 "nbformat_minor": 5
}
